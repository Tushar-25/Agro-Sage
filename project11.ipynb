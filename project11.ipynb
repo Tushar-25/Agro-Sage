{
 "cells": [
  {
   "cell_type": "code",
   "execution_count": 1,
   "id": "a6e5005c",
   "metadata": {},
   "outputs": [],
   "source": [
    "import pandas as pd\n",
    "import numpy as np\n",
    "from matplotlib import pyplot as plt\n",
    "%matplotlib inline\n",
    "import matplotlib\n",
    "matplotlib.rcParams['figure.figsize']=(20,10)"
   ]
  },
  {
   "cell_type": "markdown",
   "id": "3b4bf5f5",
   "metadata": {},
   "source": [
    "# isme ek idea hum woh bhi kar skte hai jisse farmer apna details daal de aur add karde crops se related details and contact kar le"
   ]
  },
  {
   "cell_type": "markdown",
   "id": "5c7a42c3",
   "metadata": {},
   "source": [
    "# isse yeh ho jayega usko bhaut zyada price mil jayega aur jo fruits beek na rhe ho ya jaldi use karne ho woh bhaut jaldi sell out kar ske"
   ]
  },
  {
   "cell_type": "code",
   "execution_count": null,
   "id": "ad6a6756",
   "metadata": {},
   "outputs": [],
   "source": []
  },
  {
   "cell_type": "code",
   "execution_count": null,
   "id": "7c084866",
   "metadata": {},
   "outputs": [],
   "source": []
  },
  {
   "cell_type": "code",
   "execution_count": null,
   "id": "3d1cd957",
   "metadata": {},
   "outputs": [],
   "source": []
  },
  {
   "cell_type": "code",
   "execution_count": 2,
   "id": "5a424832",
   "metadata": {},
   "outputs": [],
   "source": [
    "df1=pd.read_csv(\"agridata.csv\")"
   ]
  },
  {
   "cell_type": "code",
   "execution_count": 3,
   "id": "9a3924ba",
   "metadata": {
    "scrolled": false
   },
   "outputs": [
    {
     "data": {
      "text/html": [
       "<div>\n",
       "<style scoped>\n",
       "    .dataframe tbody tr th:only-of-type {\n",
       "        vertical-align: middle;\n",
       "    }\n",
       "\n",
       "    .dataframe tbody tr th {\n",
       "        vertical-align: top;\n",
       "    }\n",
       "\n",
       "    .dataframe thead th {\n",
       "        text-align: right;\n",
       "    }\n",
       "</style>\n",
       "<table border=\"1\" class=\"dataframe\">\n",
       "  <thead>\n",
       "    <tr style=\"text-align: right;\">\n",
       "      <th></th>\n",
       "      <th>state_name</th>\n",
       "      <th>district_name</th>\n",
       "      <th>market_name</th>\n",
       "      <th>variety</th>\n",
       "      <th>group</th>\n",
       "      <th>arrival_tonnes</th>\n",
       "      <th>min_price_rs_quintal</th>\n",
       "      <th>max_price_rs_quintal</th>\n",
       "      <th>modal_price_rs_quintal</th>\n",
       "      <th>reported_date</th>\n",
       "      <th>commodity_name</th>\n",
       "    </tr>\n",
       "  </thead>\n",
       "  <tbody>\n",
       "    <tr>\n",
       "      <th>0</th>\n",
       "      <td>Gujarat</td>\n",
       "      <td>Surat</td>\n",
       "      <td>Surat</td>\n",
       "      <td>Other</td>\n",
       "      <td>Vegetables</td>\n",
       "      <td>1.50</td>\n",
       "      <td>4000</td>\n",
       "      <td>7500</td>\n",
       "      <td>5750</td>\n",
       "      <td>2022-07-13</td>\n",
       "      <td>Ambada Seed</td>\n",
       "    </tr>\n",
       "    <tr>\n",
       "      <th>1</th>\n",
       "      <td>Haryana</td>\n",
       "      <td>Sonipat</td>\n",
       "      <td>Ganaur</td>\n",
       "      <td>Yam (Ratalu)</td>\n",
       "      <td>Vegetables</td>\n",
       "      <td>0.45</td>\n",
       "      <td>2500</td>\n",
       "      <td>3000</td>\n",
       "      <td>2800</td>\n",
       "      <td>2022-07-13</td>\n",
       "      <td>Ambada Seed</td>\n",
       "    </tr>\n",
       "    <tr>\n",
       "      <th>2</th>\n",
       "      <td>Telangana</td>\n",
       "      <td>Hyderabad</td>\n",
       "      <td>Erragadda(Rythu Bazar)</td>\n",
       "      <td>Other</td>\n",
       "      <td>Vegetables</td>\n",
       "      <td>3.00</td>\n",
       "      <td>2300</td>\n",
       "      <td>2300</td>\n",
       "      <td>2300</td>\n",
       "      <td>2022-07-13</td>\n",
       "      <td>Ambada Seed</td>\n",
       "    </tr>\n",
       "    <tr>\n",
       "      <th>3</th>\n",
       "      <td>Telangana</td>\n",
       "      <td>Ranga Reddy</td>\n",
       "      <td>Mehndipatnam(Rythu Bazar)</td>\n",
       "      <td>Other</td>\n",
       "      <td>Vegetables</td>\n",
       "      <td>0.40</td>\n",
       "      <td>2300</td>\n",
       "      <td>2300</td>\n",
       "      <td>2300</td>\n",
       "      <td>2022-07-13</td>\n",
       "      <td>Ambada Seed</td>\n",
       "    </tr>\n",
       "    <tr>\n",
       "      <th>4</th>\n",
       "      <td>Gujarat</td>\n",
       "      <td>Surat</td>\n",
       "      <td>Surat</td>\n",
       "      <td>Other</td>\n",
       "      <td>Vegetables</td>\n",
       "      <td>1.50</td>\n",
       "      <td>4000</td>\n",
       "      <td>7500</td>\n",
       "      <td>5750</td>\n",
       "      <td>2022-07-13</td>\n",
       "      <td>Wool</td>\n",
       "    </tr>\n",
       "  </tbody>\n",
       "</table>\n",
       "</div>"
      ],
      "text/plain": [
       "  state_name district_name                market_name       variety  \\\n",
       "0    Gujarat         Surat                      Surat         Other   \n",
       "1    Haryana       Sonipat                     Ganaur  Yam (Ratalu)   \n",
       "2  Telangana     Hyderabad     Erragadda(Rythu Bazar)         Other   \n",
       "3  Telangana   Ranga Reddy  Mehndipatnam(Rythu Bazar)         Other   \n",
       "4    Gujarat         Surat                      Surat         Other   \n",
       "\n",
       "        group  arrival_tonnes  min_price_rs_quintal  max_price_rs_quintal  \\\n",
       "0  Vegetables            1.50                  4000                  7500   \n",
       "1  Vegetables            0.45                  2500                  3000   \n",
       "2  Vegetables            3.00                  2300                  2300   \n",
       "3  Vegetables            0.40                  2300                  2300   \n",
       "4  Vegetables            1.50                  4000                  7500   \n",
       "\n",
       "   modal_price_rs_quintal reported_date commodity_name  \n",
       "0                    5750    2022-07-13    Ambada Seed  \n",
       "1                    2800    2022-07-13    Ambada Seed  \n",
       "2                    2300    2022-07-13    Ambada Seed  \n",
       "3                    2300    2022-07-13    Ambada Seed  \n",
       "4                    5750    2022-07-13           Wool  "
      ]
     },
     "execution_count": 3,
     "metadata": {},
     "output_type": "execute_result"
    }
   ],
   "source": [
    "df1.head()"
   ]
  },
  {
   "cell_type": "code",
   "execution_count": 4,
   "id": "cfefcf71",
   "metadata": {
    "scrolled": true
   },
   "outputs": [
    {
     "data": {
      "text/plain": [
       "array(['Surat', 'Sonipat', 'Hyderabad', 'Ranga Reddy', 'Wayanad',\n",
       "       'Idukki', 'Kollam'], dtype=object)"
      ]
     },
     "execution_count": 4,
     "metadata": {},
     "output_type": "execute_result"
    }
   ],
   "source": [
    "df1['district_name'].unique()"
   ]
  },
  {
   "cell_type": "code",
   "execution_count": 5,
   "id": "d8488dd6",
   "metadata": {},
   "outputs": [],
   "source": [
    "df1 = df1.drop(['market_name', 'variety', 'group'], axis=1)"
   ]
  },
  {
   "cell_type": "code",
   "execution_count": 6,
   "id": "3cd22e82",
   "metadata": {},
   "outputs": [],
   "source": [
    "df1['district_name'] = df1['district_name'].replace('Surat', 'Surat - Gujarat - (Western)')"
   ]
  },
  {
   "cell_type": "code",
   "execution_count": 7,
   "id": "dc9b8f8e",
   "metadata": {},
   "outputs": [],
   "source": [
    "df1['district_name'] = df1['district_name'].replace('Sonipat', 'Sonipat - Haryana - (Northern)')"
   ]
  },
  {
   "cell_type": "code",
   "execution_count": 8,
   "id": "d2764f6d",
   "metadata": {},
   "outputs": [],
   "source": [
    "df1['district_name'] = df1['district_name'].replace('Hyderabad', 'Hyderabad - Telangana - (Southern)')"
   ]
  },
  {
   "cell_type": "code",
   "execution_count": 9,
   "id": "65899775",
   "metadata": {},
   "outputs": [],
   "source": [
    "df1['district_name'] = df1['district_name'].replace('Ranga Reddy', 'Ranga Reddy - Telangana - (Southern)')"
   ]
  },
  {
   "cell_type": "code",
   "execution_count": 10,
   "id": "60ecd27f",
   "metadata": {},
   "outputs": [],
   "source": [
    "df1['district_name'] = df1['district_name'].replace('Wayanad', 'Wayanad - Kerala - (Southern Western)')"
   ]
  },
  {
   "cell_type": "code",
   "execution_count": 11,
   "id": "1c960744",
   "metadata": {},
   "outputs": [],
   "source": [
    "df1['district_name'] = df1['district_name'].replace('Idukki', 'Idukki - Kerala - (Southern Western)')"
   ]
  },
  {
   "cell_type": "code",
   "execution_count": 12,
   "id": "e85775a8",
   "metadata": {},
   "outputs": [],
   "source": [
    "df1['district_name'] = df1['district_name'].replace('Kollam', 'Kollam - Kerala - (Southern Western)')"
   ]
  },
  {
   "cell_type": "code",
   "execution_count": 13,
   "id": "53f8115f",
   "metadata": {},
   "outputs": [],
   "source": [
    "df2=df1.drop(['state_name'],axis=1)"
   ]
  },
  {
   "cell_type": "code",
   "execution_count": 14,
   "id": "bbbb316a",
   "metadata": {},
   "outputs": [
    {
     "data": {
      "text/html": [
       "<div>\n",
       "<style scoped>\n",
       "    .dataframe tbody tr th:only-of-type {\n",
       "        vertical-align: middle;\n",
       "    }\n",
       "\n",
       "    .dataframe tbody tr th {\n",
       "        vertical-align: top;\n",
       "    }\n",
       "\n",
       "    .dataframe thead th {\n",
       "        text-align: right;\n",
       "    }\n",
       "</style>\n",
       "<table border=\"1\" class=\"dataframe\">\n",
       "  <thead>\n",
       "    <tr style=\"text-align: right;\">\n",
       "      <th></th>\n",
       "      <th>district_name</th>\n",
       "      <th>arrival_tonnes</th>\n",
       "      <th>min_price_rs_quintal</th>\n",
       "      <th>max_price_rs_quintal</th>\n",
       "      <th>modal_price_rs_quintal</th>\n",
       "      <th>reported_date</th>\n",
       "      <th>commodity_name</th>\n",
       "    </tr>\n",
       "  </thead>\n",
       "  <tbody>\n",
       "    <tr>\n",
       "      <th>0</th>\n",
       "      <td>Surat - Gujarat - (Western)</td>\n",
       "      <td>1.50</td>\n",
       "      <td>4000</td>\n",
       "      <td>7500</td>\n",
       "      <td>5750</td>\n",
       "      <td>2022-07-13</td>\n",
       "      <td>Ambada Seed</td>\n",
       "    </tr>\n",
       "    <tr>\n",
       "      <th>1</th>\n",
       "      <td>Sonipat - Haryana - (Northern)</td>\n",
       "      <td>0.45</td>\n",
       "      <td>2500</td>\n",
       "      <td>3000</td>\n",
       "      <td>2800</td>\n",
       "      <td>2022-07-13</td>\n",
       "      <td>Ambada Seed</td>\n",
       "    </tr>\n",
       "    <tr>\n",
       "      <th>2</th>\n",
       "      <td>Hyderabad - Telangana - (Southern)</td>\n",
       "      <td>3.00</td>\n",
       "      <td>2300</td>\n",
       "      <td>2300</td>\n",
       "      <td>2300</td>\n",
       "      <td>2022-07-13</td>\n",
       "      <td>Ambada Seed</td>\n",
       "    </tr>\n",
       "    <tr>\n",
       "      <th>3</th>\n",
       "      <td>Ranga Reddy - Telangana - (Southern)</td>\n",
       "      <td>0.40</td>\n",
       "      <td>2300</td>\n",
       "      <td>2300</td>\n",
       "      <td>2300</td>\n",
       "      <td>2022-07-13</td>\n",
       "      <td>Ambada Seed</td>\n",
       "    </tr>\n",
       "    <tr>\n",
       "      <th>4</th>\n",
       "      <td>Surat - Gujarat - (Western)</td>\n",
       "      <td>1.50</td>\n",
       "      <td>4000</td>\n",
       "      <td>7500</td>\n",
       "      <td>5750</td>\n",
       "      <td>2022-07-13</td>\n",
       "      <td>Wool</td>\n",
       "    </tr>\n",
       "    <tr>\n",
       "      <th>...</th>\n",
       "      <td>...</td>\n",
       "      <td>...</td>\n",
       "      <td>...</td>\n",
       "      <td>...</td>\n",
       "      <td>...</td>\n",
       "      <td>...</td>\n",
       "      <td>...</td>\n",
       "    </tr>\n",
       "    <tr>\n",
       "      <th>3435</th>\n",
       "      <td>Wayanad - Kerala - (Southern Western)</td>\n",
       "      <td>13.00</td>\n",
       "      <td>2400</td>\n",
       "      <td>2500</td>\n",
       "      <td>2500</td>\n",
       "      <td>2022-07-14</td>\n",
       "      <td>Bamboo</td>\n",
       "    </tr>\n",
       "    <tr>\n",
       "      <th>3436</th>\n",
       "      <td>Idukki - Kerala - (Southern Western)</td>\n",
       "      <td>4.90</td>\n",
       "      <td>1800</td>\n",
       "      <td>2300</td>\n",
       "      <td>2100</td>\n",
       "      <td>2022-07-14</td>\n",
       "      <td>Bamboo</td>\n",
       "    </tr>\n",
       "    <tr>\n",
       "      <th>3437</th>\n",
       "      <td>Kollam - Kerala - (Southern Western)</td>\n",
       "      <td>0.30</td>\n",
       "      <td>5000</td>\n",
       "      <td>5500</td>\n",
       "      <td>5300</td>\n",
       "      <td>2022-07-14</td>\n",
       "      <td>Bamboo</td>\n",
       "    </tr>\n",
       "    <tr>\n",
       "      <th>3438</th>\n",
       "      <td>Hyderabad - Telangana - (Southern)</td>\n",
       "      <td>3.00</td>\n",
       "      <td>2800</td>\n",
       "      <td>2800</td>\n",
       "      <td>2800</td>\n",
       "      <td>2022-07-14</td>\n",
       "      <td>Bamboo</td>\n",
       "    </tr>\n",
       "    <tr>\n",
       "      <th>3439</th>\n",
       "      <td>Ranga Reddy - Telangana - (Southern)</td>\n",
       "      <td>0.30</td>\n",
       "      <td>280</td>\n",
       "      <td>2800</td>\n",
       "      <td>2800</td>\n",
       "      <td>2022-07-14</td>\n",
       "      <td>Bamboo</td>\n",
       "    </tr>\n",
       "  </tbody>\n",
       "</table>\n",
       "<p>3440 rows × 7 columns</p>\n",
       "</div>"
      ],
      "text/plain": [
       "                              district_name  arrival_tonnes  \\\n",
       "0               Surat - Gujarat - (Western)            1.50   \n",
       "1            Sonipat - Haryana - (Northern)            0.45   \n",
       "2        Hyderabad - Telangana - (Southern)            3.00   \n",
       "3      Ranga Reddy - Telangana - (Southern)            0.40   \n",
       "4               Surat - Gujarat - (Western)            1.50   \n",
       "...                                     ...             ...   \n",
       "3435  Wayanad - Kerala - (Southern Western)           13.00   \n",
       "3436   Idukki - Kerala - (Southern Western)            4.90   \n",
       "3437   Kollam - Kerala - (Southern Western)            0.30   \n",
       "3438     Hyderabad - Telangana - (Southern)            3.00   \n",
       "3439   Ranga Reddy - Telangana - (Southern)            0.30   \n",
       "\n",
       "      min_price_rs_quintal  max_price_rs_quintal  modal_price_rs_quintal  \\\n",
       "0                     4000                  7500                    5750   \n",
       "1                     2500                  3000                    2800   \n",
       "2                     2300                  2300                    2300   \n",
       "3                     2300                  2300                    2300   \n",
       "4                     4000                  7500                    5750   \n",
       "...                    ...                   ...                     ...   \n",
       "3435                  2400                  2500                    2500   \n",
       "3436                  1800                  2300                    2100   \n",
       "3437                  5000                  5500                    5300   \n",
       "3438                  2800                  2800                    2800   \n",
       "3439                   280                  2800                    2800   \n",
       "\n",
       "     reported_date commodity_name  \n",
       "0       2022-07-13    Ambada Seed  \n",
       "1       2022-07-13    Ambada Seed  \n",
       "2       2022-07-13    Ambada Seed  \n",
       "3       2022-07-13    Ambada Seed  \n",
       "4       2022-07-13           Wool  \n",
       "...            ...            ...  \n",
       "3435    2022-07-14         Bamboo  \n",
       "3436    2022-07-14         Bamboo  \n",
       "3437    2022-07-14         Bamboo  \n",
       "3438    2022-07-14         Bamboo  \n",
       "3439    2022-07-14         Bamboo  \n",
       "\n",
       "[3440 rows x 7 columns]"
      ]
     },
     "execution_count": 14,
     "metadata": {},
     "output_type": "execute_result"
    }
   ],
   "source": [
    "df2"
   ]
  },
  {
   "cell_type": "code",
   "execution_count": 15,
   "id": "53f701b1",
   "metadata": {},
   "outputs": [],
   "source": [
    "df2= df2.loc[df2['commodity_name'].isin(['Rice','Maize','Kabuli Chana(Chickpeas-White)','Beans','Arhar Dal(Tur Dal)','Mataki'\n",
    "                                         'Green Gram (Moong)(Whole)','Black Gram (Urd Beans)(Whole)','Lentil (Masur)(Whole)',\n",
    "                                         'Pomegranate','Banana','Mango','Grapes','Water Melon','Karbuja(Musk Melon)',\n",
    "                                         'Apple','Orange','Papaya','Coconut','Cotton','Jute','Coffee'])]"
   ]
  },
  {
   "cell_type": "code",
   "execution_count": 16,
   "id": "77031fae",
   "metadata": {
    "scrolled": false
   },
   "outputs": [
    {
     "data": {
      "text/html": [
       "<div>\n",
       "<style scoped>\n",
       "    .dataframe tbody tr th:only-of-type {\n",
       "        vertical-align: middle;\n",
       "    }\n",
       "\n",
       "    .dataframe tbody tr th {\n",
       "        vertical-align: top;\n",
       "    }\n",
       "\n",
       "    .dataframe thead th {\n",
       "        text-align: right;\n",
       "    }\n",
       "</style>\n",
       "<table border=\"1\" class=\"dataframe\">\n",
       "  <thead>\n",
       "    <tr style=\"text-align: right;\">\n",
       "      <th></th>\n",
       "      <th>district_name</th>\n",
       "      <th>arrival_tonnes</th>\n",
       "      <th>min_price_rs_quintal</th>\n",
       "      <th>max_price_rs_quintal</th>\n",
       "      <th>modal_price_rs_quintal</th>\n",
       "      <th>reported_date</th>\n",
       "      <th>commodity_name</th>\n",
       "    </tr>\n",
       "  </thead>\n",
       "  <tbody>\n",
       "    <tr>\n",
       "      <th>96</th>\n",
       "      <td>Surat - Gujarat - (Western)</td>\n",
       "      <td>1.50</td>\n",
       "      <td>4000</td>\n",
       "      <td>7500</td>\n",
       "      <td>5750</td>\n",
       "      <td>2022-07-13</td>\n",
       "      <td>Arhar Dal(Tur Dal)</td>\n",
       "    </tr>\n",
       "    <tr>\n",
       "      <th>97</th>\n",
       "      <td>Sonipat - Haryana - (Northern)</td>\n",
       "      <td>0.45</td>\n",
       "      <td>2500</td>\n",
       "      <td>3000</td>\n",
       "      <td>2800</td>\n",
       "      <td>2022-07-13</td>\n",
       "      <td>Arhar Dal(Tur Dal)</td>\n",
       "    </tr>\n",
       "    <tr>\n",
       "      <th>98</th>\n",
       "      <td>Hyderabad - Telangana - (Southern)</td>\n",
       "      <td>3.00</td>\n",
       "      <td>2300</td>\n",
       "      <td>2300</td>\n",
       "      <td>2300</td>\n",
       "      <td>2022-07-13</td>\n",
       "      <td>Arhar Dal(Tur Dal)</td>\n",
       "    </tr>\n",
       "    <tr>\n",
       "      <th>99</th>\n",
       "      <td>Ranga Reddy - Telangana - (Southern)</td>\n",
       "      <td>0.40</td>\n",
       "      <td>2300</td>\n",
       "      <td>2300</td>\n",
       "      <td>2300</td>\n",
       "      <td>2022-07-13</td>\n",
       "      <td>Arhar Dal(Tur Dal)</td>\n",
       "    </tr>\n",
       "    <tr>\n",
       "      <th>152</th>\n",
       "      <td>Surat - Gujarat - (Western)</td>\n",
       "      <td>1.50</td>\n",
       "      <td>4000</td>\n",
       "      <td>7500</td>\n",
       "      <td>5750</td>\n",
       "      <td>2022-07-13</td>\n",
       "      <td>Papaya</td>\n",
       "    </tr>\n",
       "    <tr>\n",
       "      <th>...</th>\n",
       "      <td>...</td>\n",
       "      <td>...</td>\n",
       "      <td>...</td>\n",
       "      <td>...</td>\n",
       "      <td>...</td>\n",
       "      <td>...</td>\n",
       "      <td>...</td>\n",
       "    </tr>\n",
       "    <tr>\n",
       "      <th>3405</th>\n",
       "      <td>Wayanad - Kerala - (Southern Western)</td>\n",
       "      <td>13.00</td>\n",
       "      <td>2400</td>\n",
       "      <td>2500</td>\n",
       "      <td>2500</td>\n",
       "      <td>2022-07-14</td>\n",
       "      <td>Arhar Dal(Tur Dal)</td>\n",
       "    </tr>\n",
       "    <tr>\n",
       "      <th>3406</th>\n",
       "      <td>Idukki - Kerala - (Southern Western)</td>\n",
       "      <td>4.90</td>\n",
       "      <td>1800</td>\n",
       "      <td>2300</td>\n",
       "      <td>2100</td>\n",
       "      <td>2022-07-14</td>\n",
       "      <td>Arhar Dal(Tur Dal)</td>\n",
       "    </tr>\n",
       "    <tr>\n",
       "      <th>3407</th>\n",
       "      <td>Kollam - Kerala - (Southern Western)</td>\n",
       "      <td>0.30</td>\n",
       "      <td>5000</td>\n",
       "      <td>5500</td>\n",
       "      <td>5300</td>\n",
       "      <td>2022-07-14</td>\n",
       "      <td>Arhar Dal(Tur Dal)</td>\n",
       "    </tr>\n",
       "    <tr>\n",
       "      <th>3408</th>\n",
       "      <td>Hyderabad - Telangana - (Southern)</td>\n",
       "      <td>3.00</td>\n",
       "      <td>2800</td>\n",
       "      <td>2800</td>\n",
       "      <td>2800</td>\n",
       "      <td>2022-07-14</td>\n",
       "      <td>Arhar Dal(Tur Dal)</td>\n",
       "    </tr>\n",
       "    <tr>\n",
       "      <th>3409</th>\n",
       "      <td>Ranga Reddy - Telangana - (Southern)</td>\n",
       "      <td>0.30</td>\n",
       "      <td>280</td>\n",
       "      <td>2800</td>\n",
       "      <td>2800</td>\n",
       "      <td>2022-07-14</td>\n",
       "      <td>Arhar Dal(Tur Dal)</td>\n",
       "    </tr>\n",
       "  </tbody>\n",
       "</table>\n",
       "<p>200 rows × 7 columns</p>\n",
       "</div>"
      ],
      "text/plain": [
       "                              district_name  arrival_tonnes  \\\n",
       "96              Surat - Gujarat - (Western)            1.50   \n",
       "97           Sonipat - Haryana - (Northern)            0.45   \n",
       "98       Hyderabad - Telangana - (Southern)            3.00   \n",
       "99     Ranga Reddy - Telangana - (Southern)            0.40   \n",
       "152             Surat - Gujarat - (Western)            1.50   \n",
       "...                                     ...             ...   \n",
       "3405  Wayanad - Kerala - (Southern Western)           13.00   \n",
       "3406   Idukki - Kerala - (Southern Western)            4.90   \n",
       "3407   Kollam - Kerala - (Southern Western)            0.30   \n",
       "3408     Hyderabad - Telangana - (Southern)            3.00   \n",
       "3409   Ranga Reddy - Telangana - (Southern)            0.30   \n",
       "\n",
       "      min_price_rs_quintal  max_price_rs_quintal  modal_price_rs_quintal  \\\n",
       "96                    4000                  7500                    5750   \n",
       "97                    2500                  3000                    2800   \n",
       "98                    2300                  2300                    2300   \n",
       "99                    2300                  2300                    2300   \n",
       "152                   4000                  7500                    5750   \n",
       "...                    ...                   ...                     ...   \n",
       "3405                  2400                  2500                    2500   \n",
       "3406                  1800                  2300                    2100   \n",
       "3407                  5000                  5500                    5300   \n",
       "3408                  2800                  2800                    2800   \n",
       "3409                   280                  2800                    2800   \n",
       "\n",
       "     reported_date      commodity_name  \n",
       "96      2022-07-13  Arhar Dal(Tur Dal)  \n",
       "97      2022-07-13  Arhar Dal(Tur Dal)  \n",
       "98      2022-07-13  Arhar Dal(Tur Dal)  \n",
       "99      2022-07-13  Arhar Dal(Tur Dal)  \n",
       "152     2022-07-13              Papaya  \n",
       "...            ...                 ...  \n",
       "3405    2022-07-14  Arhar Dal(Tur Dal)  \n",
       "3406    2022-07-14  Arhar Dal(Tur Dal)  \n",
       "3407    2022-07-14  Arhar Dal(Tur Dal)  \n",
       "3408    2022-07-14  Arhar Dal(Tur Dal)  \n",
       "3409    2022-07-14  Arhar Dal(Tur Dal)  \n",
       "\n",
       "[200 rows x 7 columns]"
      ]
     },
     "execution_count": 16,
     "metadata": {},
     "output_type": "execute_result"
    }
   ],
   "source": [
    "df2"
   ]
  },
  {
   "cell_type": "code",
   "execution_count": 17,
   "id": "9a3f507e",
   "metadata": {
    "scrolled": true
   },
   "outputs": [
    {
     "name": "stderr",
     "output_type": "stream",
     "text": [
      "c:\\users\\paltu\\appdata\\local\\programs\\python\\python37\\lib\\site-packages\\ipykernel_launcher.py:1: SettingWithCopyWarning: \n",
      "A value is trying to be set on a copy of a slice from a DataFrame.\n",
      "Try using .loc[row_indexer,col_indexer] = value instead\n",
      "\n",
      "See the caveats in the documentation: https://pandas.pydata.org/pandas-docs/stable/user_guide/indexing.html#returning-a-view-versus-a-copy\n",
      "  \"\"\"Entry point for launching an IPython kernel.\n"
     ]
    }
   ],
   "source": [
    "df2['district_name']=df2['district_name'].str.lower()"
   ]
  },
  {
   "cell_type": "code",
   "execution_count": 18,
   "id": "acbe9f6b",
   "metadata": {},
   "outputs": [
    {
     "name": "stderr",
     "output_type": "stream",
     "text": [
      "c:\\users\\paltu\\appdata\\local\\programs\\python\\python37\\lib\\site-packages\\ipykernel_launcher.py:1: SettingWithCopyWarning: \n",
      "A value is trying to be set on a copy of a slice from a DataFrame.\n",
      "Try using .loc[row_indexer,col_indexer] = value instead\n",
      "\n",
      "See the caveats in the documentation: https://pandas.pydata.org/pandas-docs/stable/user_guide/indexing.html#returning-a-view-versus-a-copy\n",
      "  \"\"\"Entry point for launching an IPython kernel.\n"
     ]
    }
   ],
   "source": [
    "df2['commodity_name']=df2['commodity_name'].str.lower()"
   ]
  },
  {
   "cell_type": "code",
   "execution_count": 19,
   "id": "51b8ac1c",
   "metadata": {},
   "outputs": [
    {
     "data": {
      "text/plain": [
       "Index(['district_name', 'arrival_tonnes', 'min_price_rs_quintal',\n",
       "       'max_price_rs_quintal', 'modal_price_rs_quintal', 'reported_date',\n",
       "       'commodity_name'],\n",
       "      dtype='object')"
      ]
     },
     "execution_count": 19,
     "metadata": {},
     "output_type": "execute_result"
    }
   ],
   "source": [
    "df2.columns"
   ]
  },
  {
   "cell_type": "code",
   "execution_count": 20,
   "id": "6e3a3020",
   "metadata": {},
   "outputs": [],
   "source": [
    "df3=df2.rename(columns={'district_name':'district','min_price_rs_quintal':'min_rs_quintal',\n",
    "                        'max_price_rs_quintal':'max_rs_quintal',\n",
    "                        'modal_price_rs_quintal':'modal_rs_quintal',\n",
    "                       'commodity_name':'crop_name'})"
   ]
  },
  {
   "cell_type": "code",
   "execution_count": 21,
   "id": "2ea55269",
   "metadata": {},
   "outputs": [
    {
     "data": {
      "text/html": [
       "<div>\n",
       "<style scoped>\n",
       "    .dataframe tbody tr th:only-of-type {\n",
       "        vertical-align: middle;\n",
       "    }\n",
       "\n",
       "    .dataframe tbody tr th {\n",
       "        vertical-align: top;\n",
       "    }\n",
       "\n",
       "    .dataframe thead th {\n",
       "        text-align: right;\n",
       "    }\n",
       "</style>\n",
       "<table border=\"1\" class=\"dataframe\">\n",
       "  <thead>\n",
       "    <tr style=\"text-align: right;\">\n",
       "      <th></th>\n",
       "      <th>district</th>\n",
       "      <th>arrival_tonnes</th>\n",
       "      <th>min_rs_quintal</th>\n",
       "      <th>max_rs_quintal</th>\n",
       "      <th>modal_rs_quintal</th>\n",
       "      <th>reported_date</th>\n",
       "      <th>crop_name</th>\n",
       "    </tr>\n",
       "  </thead>\n",
       "  <tbody>\n",
       "    <tr>\n",
       "      <th>96</th>\n",
       "      <td>surat - gujarat - (western)</td>\n",
       "      <td>1.50</td>\n",
       "      <td>4000</td>\n",
       "      <td>7500</td>\n",
       "      <td>5750</td>\n",
       "      <td>2022-07-13</td>\n",
       "      <td>arhar dal(tur dal)</td>\n",
       "    </tr>\n",
       "    <tr>\n",
       "      <th>97</th>\n",
       "      <td>sonipat - haryana - (northern)</td>\n",
       "      <td>0.45</td>\n",
       "      <td>2500</td>\n",
       "      <td>3000</td>\n",
       "      <td>2800</td>\n",
       "      <td>2022-07-13</td>\n",
       "      <td>arhar dal(tur dal)</td>\n",
       "    </tr>\n",
       "    <tr>\n",
       "      <th>98</th>\n",
       "      <td>hyderabad - telangana - (southern)</td>\n",
       "      <td>3.00</td>\n",
       "      <td>2300</td>\n",
       "      <td>2300</td>\n",
       "      <td>2300</td>\n",
       "      <td>2022-07-13</td>\n",
       "      <td>arhar dal(tur dal)</td>\n",
       "    </tr>\n",
       "    <tr>\n",
       "      <th>99</th>\n",
       "      <td>ranga reddy - telangana - (southern)</td>\n",
       "      <td>0.40</td>\n",
       "      <td>2300</td>\n",
       "      <td>2300</td>\n",
       "      <td>2300</td>\n",
       "      <td>2022-07-13</td>\n",
       "      <td>arhar dal(tur dal)</td>\n",
       "    </tr>\n",
       "    <tr>\n",
       "      <th>152</th>\n",
       "      <td>surat - gujarat - (western)</td>\n",
       "      <td>1.50</td>\n",
       "      <td>4000</td>\n",
       "      <td>7500</td>\n",
       "      <td>5750</td>\n",
       "      <td>2022-07-13</td>\n",
       "      <td>papaya</td>\n",
       "    </tr>\n",
       "  </tbody>\n",
       "</table>\n",
       "</div>"
      ],
      "text/plain": [
       "                                 district  arrival_tonnes  min_rs_quintal  \\\n",
       "96            surat - gujarat - (western)            1.50            4000   \n",
       "97         sonipat - haryana - (northern)            0.45            2500   \n",
       "98     hyderabad - telangana - (southern)            3.00            2300   \n",
       "99   ranga reddy - telangana - (southern)            0.40            2300   \n",
       "152           surat - gujarat - (western)            1.50            4000   \n",
       "\n",
       "     max_rs_quintal  modal_rs_quintal reported_date           crop_name  \n",
       "96             7500              5750    2022-07-13  arhar dal(tur dal)  \n",
       "97             3000              2800    2022-07-13  arhar dal(tur dal)  \n",
       "98             2300              2300    2022-07-13  arhar dal(tur dal)  \n",
       "99             2300              2300    2022-07-13  arhar dal(tur dal)  \n",
       "152            7500              5750    2022-07-13              papaya  "
      ]
     },
     "execution_count": 21,
     "metadata": {},
     "output_type": "execute_result"
    }
   ],
   "source": [
    "df3.head()"
   ]
  },
  {
   "cell_type": "code",
   "execution_count": 22,
   "id": "ab0d6349",
   "metadata": {},
   "outputs": [
    {
     "data": {
      "text/html": [
       "<div>\n",
       "<style scoped>\n",
       "    .dataframe tbody tr th:only-of-type {\n",
       "        vertical-align: middle;\n",
       "    }\n",
       "\n",
       "    .dataframe tbody tr th {\n",
       "        vertical-align: top;\n",
       "    }\n",
       "\n",
       "    .dataframe thead th {\n",
       "        text-align: right;\n",
       "    }\n",
       "</style>\n",
       "<table border=\"1\" class=\"dataframe\">\n",
       "  <thead>\n",
       "    <tr style=\"text-align: right;\">\n",
       "      <th></th>\n",
       "      <th>district</th>\n",
       "      <th>arrival_tonnes</th>\n",
       "      <th>min_rs_quintal</th>\n",
       "      <th>max_rs_quintal</th>\n",
       "      <th>modal_rs_quintal</th>\n",
       "      <th>reported_date</th>\n",
       "      <th>crop_name</th>\n",
       "      <th>date</th>\n",
       "      <th>day</th>\n",
       "      <th>month</th>\n",
       "      <th>year</th>\n",
       "    </tr>\n",
       "  </thead>\n",
       "  <tbody>\n",
       "    <tr>\n",
       "      <th>96</th>\n",
       "      <td>surat - gujarat - (western)</td>\n",
       "      <td>1.50</td>\n",
       "      <td>4000</td>\n",
       "      <td>7500</td>\n",
       "      <td>5750</td>\n",
       "      <td>2022-07-13</td>\n",
       "      <td>arhar dal(tur dal)</td>\n",
       "      <td>2022-07-13</td>\n",
       "      <td>13</td>\n",
       "      <td>7</td>\n",
       "      <td>2022</td>\n",
       "    </tr>\n",
       "    <tr>\n",
       "      <th>97</th>\n",
       "      <td>sonipat - haryana - (northern)</td>\n",
       "      <td>0.45</td>\n",
       "      <td>2500</td>\n",
       "      <td>3000</td>\n",
       "      <td>2800</td>\n",
       "      <td>2022-07-13</td>\n",
       "      <td>arhar dal(tur dal)</td>\n",
       "      <td>2022-07-13</td>\n",
       "      <td>13</td>\n",
       "      <td>7</td>\n",
       "      <td>2022</td>\n",
       "    </tr>\n",
       "    <tr>\n",
       "      <th>98</th>\n",
       "      <td>hyderabad - telangana - (southern)</td>\n",
       "      <td>3.00</td>\n",
       "      <td>2300</td>\n",
       "      <td>2300</td>\n",
       "      <td>2300</td>\n",
       "      <td>2022-07-13</td>\n",
       "      <td>arhar dal(tur dal)</td>\n",
       "      <td>2022-07-13</td>\n",
       "      <td>13</td>\n",
       "      <td>7</td>\n",
       "      <td>2022</td>\n",
       "    </tr>\n",
       "    <tr>\n",
       "      <th>99</th>\n",
       "      <td>ranga reddy - telangana - (southern)</td>\n",
       "      <td>0.40</td>\n",
       "      <td>2300</td>\n",
       "      <td>2300</td>\n",
       "      <td>2300</td>\n",
       "      <td>2022-07-13</td>\n",
       "      <td>arhar dal(tur dal)</td>\n",
       "      <td>2022-07-13</td>\n",
       "      <td>13</td>\n",
       "      <td>7</td>\n",
       "      <td>2022</td>\n",
       "    </tr>\n",
       "    <tr>\n",
       "      <th>152</th>\n",
       "      <td>surat - gujarat - (western)</td>\n",
       "      <td>1.50</td>\n",
       "      <td>4000</td>\n",
       "      <td>7500</td>\n",
       "      <td>5750</td>\n",
       "      <td>2022-07-13</td>\n",
       "      <td>papaya</td>\n",
       "      <td>2022-07-13</td>\n",
       "      <td>13</td>\n",
       "      <td>7</td>\n",
       "      <td>2022</td>\n",
       "    </tr>\n",
       "    <tr>\n",
       "      <th>...</th>\n",
       "      <td>...</td>\n",
       "      <td>...</td>\n",
       "      <td>...</td>\n",
       "      <td>...</td>\n",
       "      <td>...</td>\n",
       "      <td>...</td>\n",
       "      <td>...</td>\n",
       "      <td>...</td>\n",
       "      <td>...</td>\n",
       "      <td>...</td>\n",
       "      <td>...</td>\n",
       "    </tr>\n",
       "    <tr>\n",
       "      <th>3405</th>\n",
       "      <td>wayanad - kerala - (southern western)</td>\n",
       "      <td>13.00</td>\n",
       "      <td>2400</td>\n",
       "      <td>2500</td>\n",
       "      <td>2500</td>\n",
       "      <td>2022-07-14</td>\n",
       "      <td>arhar dal(tur dal)</td>\n",
       "      <td>2022-07-14</td>\n",
       "      <td>14</td>\n",
       "      <td>7</td>\n",
       "      <td>2022</td>\n",
       "    </tr>\n",
       "    <tr>\n",
       "      <th>3406</th>\n",
       "      <td>idukki - kerala - (southern western)</td>\n",
       "      <td>4.90</td>\n",
       "      <td>1800</td>\n",
       "      <td>2300</td>\n",
       "      <td>2100</td>\n",
       "      <td>2022-07-14</td>\n",
       "      <td>arhar dal(tur dal)</td>\n",
       "      <td>2022-07-14</td>\n",
       "      <td>14</td>\n",
       "      <td>7</td>\n",
       "      <td>2022</td>\n",
       "    </tr>\n",
       "    <tr>\n",
       "      <th>3407</th>\n",
       "      <td>kollam - kerala - (southern western)</td>\n",
       "      <td>0.30</td>\n",
       "      <td>5000</td>\n",
       "      <td>5500</td>\n",
       "      <td>5300</td>\n",
       "      <td>2022-07-14</td>\n",
       "      <td>arhar dal(tur dal)</td>\n",
       "      <td>2022-07-14</td>\n",
       "      <td>14</td>\n",
       "      <td>7</td>\n",
       "      <td>2022</td>\n",
       "    </tr>\n",
       "    <tr>\n",
       "      <th>3408</th>\n",
       "      <td>hyderabad - telangana - (southern)</td>\n",
       "      <td>3.00</td>\n",
       "      <td>2800</td>\n",
       "      <td>2800</td>\n",
       "      <td>2800</td>\n",
       "      <td>2022-07-14</td>\n",
       "      <td>arhar dal(tur dal)</td>\n",
       "      <td>2022-07-14</td>\n",
       "      <td>14</td>\n",
       "      <td>7</td>\n",
       "      <td>2022</td>\n",
       "    </tr>\n",
       "    <tr>\n",
       "      <th>3409</th>\n",
       "      <td>ranga reddy - telangana - (southern)</td>\n",
       "      <td>0.30</td>\n",
       "      <td>280</td>\n",
       "      <td>2800</td>\n",
       "      <td>2800</td>\n",
       "      <td>2022-07-14</td>\n",
       "      <td>arhar dal(tur dal)</td>\n",
       "      <td>2022-07-14</td>\n",
       "      <td>14</td>\n",
       "      <td>7</td>\n",
       "      <td>2022</td>\n",
       "    </tr>\n",
       "  </tbody>\n",
       "</table>\n",
       "<p>200 rows × 11 columns</p>\n",
       "</div>"
      ],
      "text/plain": [
       "                                   district  arrival_tonnes  min_rs_quintal  \\\n",
       "96              surat - gujarat - (western)            1.50            4000   \n",
       "97           sonipat - haryana - (northern)            0.45            2500   \n",
       "98       hyderabad - telangana - (southern)            3.00            2300   \n",
       "99     ranga reddy - telangana - (southern)            0.40            2300   \n",
       "152             surat - gujarat - (western)            1.50            4000   \n",
       "...                                     ...             ...             ...   \n",
       "3405  wayanad - kerala - (southern western)           13.00            2400   \n",
       "3406   idukki - kerala - (southern western)            4.90            1800   \n",
       "3407   kollam - kerala - (southern western)            0.30            5000   \n",
       "3408     hyderabad - telangana - (southern)            3.00            2800   \n",
       "3409   ranga reddy - telangana - (southern)            0.30             280   \n",
       "\n",
       "      max_rs_quintal  modal_rs_quintal reported_date           crop_name  \\\n",
       "96              7500              5750    2022-07-13  arhar dal(tur dal)   \n",
       "97              3000              2800    2022-07-13  arhar dal(tur dal)   \n",
       "98              2300              2300    2022-07-13  arhar dal(tur dal)   \n",
       "99              2300              2300    2022-07-13  arhar dal(tur dal)   \n",
       "152             7500              5750    2022-07-13              papaya   \n",
       "...              ...               ...           ...                 ...   \n",
       "3405            2500              2500    2022-07-14  arhar dal(tur dal)   \n",
       "3406            2300              2100    2022-07-14  arhar dal(tur dal)   \n",
       "3407            5500              5300    2022-07-14  arhar dal(tur dal)   \n",
       "3408            2800              2800    2022-07-14  arhar dal(tur dal)   \n",
       "3409            2800              2800    2022-07-14  arhar dal(tur dal)   \n",
       "\n",
       "           date  day  month  year  \n",
       "96   2022-07-13   13      7  2022  \n",
       "97   2022-07-13   13      7  2022  \n",
       "98   2022-07-13   13      7  2022  \n",
       "99   2022-07-13   13      7  2022  \n",
       "152  2022-07-13   13      7  2022  \n",
       "...         ...  ...    ...   ...  \n",
       "3405 2022-07-14   14      7  2022  \n",
       "3406 2022-07-14   14      7  2022  \n",
       "3407 2022-07-14   14      7  2022  \n",
       "3408 2022-07-14   14      7  2022  \n",
       "3409 2022-07-14   14      7  2022  \n",
       "\n",
       "[200 rows x 11 columns]"
      ]
     },
     "execution_count": 22,
     "metadata": {},
     "output_type": "execute_result"
    }
   ],
   "source": [
    "# Convert the date strings to datetime objects\n",
    "df3['date'] = pd.to_datetime(df3[\"reported_date\"], format=\"%Y-%m-%d\")\n",
    "\n",
    "# Extract the day, month, and year components into separate columns\n",
    "df3[\"day\"] = df3[\"date\"].dt.day\n",
    "df3[\"month\"] = df3[\"date\"].dt.month\n",
    "df3[\"year\"] = df3[\"date\"].dt.year\n",
    "\n",
    "# Print the resulting DataFrame\n",
    "df3\n"
   ]
  },
  {
   "cell_type": "code",
   "execution_count": 23,
   "id": "5a776d33",
   "metadata": {},
   "outputs": [],
   "source": [
    "df4=df3.drop(['reported_date','date','year'],axis=1)"
   ]
  },
  {
   "cell_type": "code",
   "execution_count": 24,
   "id": "e515c073",
   "metadata": {},
   "outputs": [
    {
     "data": {
      "text/html": [
       "<div>\n",
       "<style scoped>\n",
       "    .dataframe tbody tr th:only-of-type {\n",
       "        vertical-align: middle;\n",
       "    }\n",
       "\n",
       "    .dataframe tbody tr th {\n",
       "        vertical-align: top;\n",
       "    }\n",
       "\n",
       "    .dataframe thead th {\n",
       "        text-align: right;\n",
       "    }\n",
       "</style>\n",
       "<table border=\"1\" class=\"dataframe\">\n",
       "  <thead>\n",
       "    <tr style=\"text-align: right;\">\n",
       "      <th></th>\n",
       "      <th>district</th>\n",
       "      <th>arrival_tonnes</th>\n",
       "      <th>min_rs_quintal</th>\n",
       "      <th>max_rs_quintal</th>\n",
       "      <th>modal_rs_quintal</th>\n",
       "      <th>crop_name</th>\n",
       "      <th>day</th>\n",
       "      <th>month</th>\n",
       "    </tr>\n",
       "  </thead>\n",
       "  <tbody>\n",
       "    <tr>\n",
       "      <th>96</th>\n",
       "      <td>surat - gujarat - (western)</td>\n",
       "      <td>1.50</td>\n",
       "      <td>4000</td>\n",
       "      <td>7500</td>\n",
       "      <td>5750</td>\n",
       "      <td>arhar dal(tur dal)</td>\n",
       "      <td>13</td>\n",
       "      <td>7</td>\n",
       "    </tr>\n",
       "    <tr>\n",
       "      <th>97</th>\n",
       "      <td>sonipat - haryana - (northern)</td>\n",
       "      <td>0.45</td>\n",
       "      <td>2500</td>\n",
       "      <td>3000</td>\n",
       "      <td>2800</td>\n",
       "      <td>arhar dal(tur dal)</td>\n",
       "      <td>13</td>\n",
       "      <td>7</td>\n",
       "    </tr>\n",
       "    <tr>\n",
       "      <th>98</th>\n",
       "      <td>hyderabad - telangana - (southern)</td>\n",
       "      <td>3.00</td>\n",
       "      <td>2300</td>\n",
       "      <td>2300</td>\n",
       "      <td>2300</td>\n",
       "      <td>arhar dal(tur dal)</td>\n",
       "      <td>13</td>\n",
       "      <td>7</td>\n",
       "    </tr>\n",
       "    <tr>\n",
       "      <th>99</th>\n",
       "      <td>ranga reddy - telangana - (southern)</td>\n",
       "      <td>0.40</td>\n",
       "      <td>2300</td>\n",
       "      <td>2300</td>\n",
       "      <td>2300</td>\n",
       "      <td>arhar dal(tur dal)</td>\n",
       "      <td>13</td>\n",
       "      <td>7</td>\n",
       "    </tr>\n",
       "    <tr>\n",
       "      <th>152</th>\n",
       "      <td>surat - gujarat - (western)</td>\n",
       "      <td>1.50</td>\n",
       "      <td>4000</td>\n",
       "      <td>7500</td>\n",
       "      <td>5750</td>\n",
       "      <td>papaya</td>\n",
       "      <td>13</td>\n",
       "      <td>7</td>\n",
       "    </tr>\n",
       "  </tbody>\n",
       "</table>\n",
       "</div>"
      ],
      "text/plain": [
       "                                 district  arrival_tonnes  min_rs_quintal  \\\n",
       "96            surat - gujarat - (western)            1.50            4000   \n",
       "97         sonipat - haryana - (northern)            0.45            2500   \n",
       "98     hyderabad - telangana - (southern)            3.00            2300   \n",
       "99   ranga reddy - telangana - (southern)            0.40            2300   \n",
       "152           surat - gujarat - (western)            1.50            4000   \n",
       "\n",
       "     max_rs_quintal  modal_rs_quintal           crop_name  day  month  \n",
       "96             7500              5750  arhar dal(tur dal)   13      7  \n",
       "97             3000              2800  arhar dal(tur dal)   13      7  \n",
       "98             2300              2300  arhar dal(tur dal)   13      7  \n",
       "99             2300              2300  arhar dal(tur dal)   13      7  \n",
       "152            7500              5750              papaya   13      7  "
      ]
     },
     "execution_count": 24,
     "metadata": {},
     "output_type": "execute_result"
    }
   ],
   "source": [
    "df4.head()"
   ]
  },
  {
   "cell_type": "code",
   "execution_count": 25,
   "id": "d98a2aa5",
   "metadata": {},
   "outputs": [
    {
     "data": {
      "text/plain": [
       "array([False, False, False, False, False, False, False, False])"
      ]
     },
     "execution_count": 25,
     "metadata": {},
     "output_type": "execute_result"
    }
   ],
   "source": [
    "df4.columns.isnull()"
   ]
  },
  {
   "cell_type": "code",
   "execution_count": 26,
   "id": "1bdb31b3",
   "metadata": {},
   "outputs": [
    {
     "data": {
      "text/html": [
       "<div>\n",
       "<style scoped>\n",
       "    .dataframe tbody tr th:only-of-type {\n",
       "        vertical-align: middle;\n",
       "    }\n",
       "\n",
       "    .dataframe tbody tr th {\n",
       "        vertical-align: top;\n",
       "    }\n",
       "\n",
       "    .dataframe thead th {\n",
       "        text-align: right;\n",
       "    }\n",
       "</style>\n",
       "<table border=\"1\" class=\"dataframe\">\n",
       "  <thead>\n",
       "    <tr style=\"text-align: right;\">\n",
       "      <th></th>\n",
       "      <th>arrival_tonnes</th>\n",
       "      <th>min_rs_quintal</th>\n",
       "      <th>max_rs_quintal</th>\n",
       "      <th>modal_rs_quintal</th>\n",
       "      <th>day</th>\n",
       "      <th>month</th>\n",
       "    </tr>\n",
       "  </thead>\n",
       "  <tbody>\n",
       "    <tr>\n",
       "      <th>count</th>\n",
       "      <td>200.000000</td>\n",
       "      <td>200.000000</td>\n",
       "      <td>200.000000</td>\n",
       "      <td>200.000000</td>\n",
       "      <td>200.000000</td>\n",
       "      <td>200.0</td>\n",
       "    </tr>\n",
       "    <tr>\n",
       "      <th>mean</th>\n",
       "      <td>2.785000</td>\n",
       "      <td>2738.000000</td>\n",
       "      <td>3850.000000</td>\n",
       "      <td>3440.000000</td>\n",
       "      <td>13.600000</td>\n",
       "      <td>7.0</td>\n",
       "    </tr>\n",
       "    <tr>\n",
       "      <th>std</th>\n",
       "      <td>3.713891</td>\n",
       "      <td>1259.415195</td>\n",
       "      <td>2037.956411</td>\n",
       "      <td>1440.233091</td>\n",
       "      <td>0.491127</td>\n",
       "      <td>0.0</td>\n",
       "    </tr>\n",
       "    <tr>\n",
       "      <th>min</th>\n",
       "      <td>0.300000</td>\n",
       "      <td>280.000000</td>\n",
       "      <td>2300.000000</td>\n",
       "      <td>2100.000000</td>\n",
       "      <td>13.000000</td>\n",
       "      <td>7.0</td>\n",
       "    </tr>\n",
       "    <tr>\n",
       "      <th>25%</th>\n",
       "      <td>0.400000</td>\n",
       "      <td>2300.000000</td>\n",
       "      <td>2300.000000</td>\n",
       "      <td>2300.000000</td>\n",
       "      <td>13.000000</td>\n",
       "      <td>7.0</td>\n",
       "    </tr>\n",
       "    <tr>\n",
       "      <th>50%</th>\n",
       "      <td>1.250000</td>\n",
       "      <td>2450.000000</td>\n",
       "      <td>2800.000000</td>\n",
       "      <td>2800.000000</td>\n",
       "      <td>14.000000</td>\n",
       "      <td>7.0</td>\n",
       "    </tr>\n",
       "    <tr>\n",
       "      <th>75%</th>\n",
       "      <td>3.000000</td>\n",
       "      <td>4000.000000</td>\n",
       "      <td>5500.000000</td>\n",
       "      <td>5300.000000</td>\n",
       "      <td>14.000000</td>\n",
       "      <td>7.0</td>\n",
       "    </tr>\n",
       "    <tr>\n",
       "      <th>max</th>\n",
       "      <td>13.000000</td>\n",
       "      <td>5000.000000</td>\n",
       "      <td>7500.000000</td>\n",
       "      <td>5750.000000</td>\n",
       "      <td>14.000000</td>\n",
       "      <td>7.0</td>\n",
       "    </tr>\n",
       "  </tbody>\n",
       "</table>\n",
       "</div>"
      ],
      "text/plain": [
       "       arrival_tonnes  min_rs_quintal  max_rs_quintal  modal_rs_quintal  \\\n",
       "count      200.000000      200.000000      200.000000        200.000000   \n",
       "mean         2.785000     2738.000000     3850.000000       3440.000000   \n",
       "std          3.713891     1259.415195     2037.956411       1440.233091   \n",
       "min          0.300000      280.000000     2300.000000       2100.000000   \n",
       "25%          0.400000     2300.000000     2300.000000       2300.000000   \n",
       "50%          1.250000     2450.000000     2800.000000       2800.000000   \n",
       "75%          3.000000     4000.000000     5500.000000       5300.000000   \n",
       "max         13.000000     5000.000000     7500.000000       5750.000000   \n",
       "\n",
       "              day  month  \n",
       "count  200.000000  200.0  \n",
       "mean    13.600000    7.0  \n",
       "std      0.491127    0.0  \n",
       "min     13.000000    7.0  \n",
       "25%     13.000000    7.0  \n",
       "50%     14.000000    7.0  \n",
       "75%     14.000000    7.0  \n",
       "max     14.000000    7.0  "
      ]
     },
     "execution_count": 26,
     "metadata": {},
     "output_type": "execute_result"
    }
   ],
   "source": [
    "df4.describe()"
   ]
  },
  {
   "cell_type": "code",
   "execution_count": 27,
   "id": "6304813b",
   "metadata": {
    "scrolled": true
   },
   "outputs": [
    {
     "data": {
      "text/plain": [
       "14    120\n",
       "13     80\n",
       "Name: day, dtype: int64"
      ]
     },
     "execution_count": 27,
     "metadata": {},
     "output_type": "execute_result"
    }
   ],
   "source": [
    "df4['day'].value_counts()"
   ]
  },
  {
   "cell_type": "code",
   "execution_count": 28,
   "id": "e587d02a",
   "metadata": {},
   "outputs": [],
   "source": [
    "import seaborn as sns"
   ]
  },
  {
   "cell_type": "code",
   "execution_count": 29,
   "id": "971390e1",
   "metadata": {},
   "outputs": [
    {
     "name": "stderr",
     "output_type": "stream",
     "text": [
      "c:\\users\\paltu\\appdata\\local\\programs\\python\\python37\\lib\\site-packages\\ipykernel_launcher.py:3: UserWarning: \n",
      "\n",
      "`distplot` is a deprecated function and will be removed in seaborn v0.14.0.\n",
      "\n",
      "Please adapt your code to use either `displot` (a figure-level function with\n",
      "similar flexibility) or `histplot` (an axes-level function for histograms).\n",
      "\n",
      "For a guide to updating your code to use the new functions, please see\n",
      "https://gist.github.com/mwaskom/de44147ed2974457ad6372750bbe5751\n",
      "\n",
      "  This is separate from the ipykernel package so we can avoid doing imports until\n",
      "c:\\users\\paltu\\appdata\\local\\programs\\python\\python37\\lib\\site-packages\\ipykernel_launcher.py:6: UserWarning: \n",
      "\n",
      "`distplot` is a deprecated function and will be removed in seaborn v0.14.0.\n",
      "\n",
      "Please adapt your code to use either `displot` (a figure-level function with\n",
      "similar flexibility) or `histplot` (an axes-level function for histograms).\n",
      "\n",
      "For a guide to updating your code to use the new functions, please see\n",
      "https://gist.github.com/mwaskom/de44147ed2974457ad6372750bbe5751\n",
      "\n",
      "  \n"
     ]
    },
    {
     "data": {
      "image/png": "[encoded data removed]",
      "text/plain": [
       "<Figure size 1152x360 with 2 Axes>"
      ]
     },
     "metadata": {
      "needs_background": "light"
     },
     "output_type": "display_data"
    }
   ],
   "source": [
    "plt.figure(figsize=(16,5))\n",
    "plt.subplot(1,2,1)\n",
    "sns.distplot(df4['arrival_tonnes'])\n",
    "\n",
    "plt.subplot(1,2,2)\n",
    "sns.distplot(df4['min_rs_quintal'])\n",
    "\n",
    "plt.show()"
   ]
  },
  {
   "cell_type": "code",
   "execution_count": 30,
   "id": "6602568e",
   "metadata": {},
   "outputs": [
    {
     "name": "stderr",
     "output_type": "stream",
     "text": [
      "c:\\users\\paltu\\appdata\\local\\programs\\python\\python37\\lib\\site-packages\\ipykernel_launcher.py:4: UserWarning: \n",
      "\n",
      "`distplot` is a deprecated function and will be removed in seaborn v0.14.0.\n",
      "\n",
      "Please adapt your code to use either `displot` (a figure-level function with\n",
      "similar flexibility) or `histplot` (an axes-level function for histograms).\n",
      "\n",
      "For a guide to updating your code to use the new functions, please see\n",
      "https://gist.github.com/mwaskom/de44147ed2974457ad6372750bbe5751\n",
      "\n",
      "  after removing the cwd from sys.path.\n",
      "c:\\users\\paltu\\appdata\\local\\programs\\python\\python37\\lib\\site-packages\\ipykernel_launcher.py:7: UserWarning: \n",
      "\n",
      "`distplot` is a deprecated function and will be removed in seaborn v0.14.0.\n",
      "\n",
      "Please adapt your code to use either `displot` (a figure-level function with\n",
      "similar flexibility) or `histplot` (an axes-level function for histograms).\n",
      "\n",
      "For a guide to updating your code to use the new functions, please see\n",
      "https://gist.github.com/mwaskom/de44147ed2974457ad6372750bbe5751\n",
      "\n",
      "  import sys\n"
     ]
    },
    {
     "data": {
      "image/png": "[encoded data removed]",
      "text/plain": [
       "<Figure size 1152x360 with 2 Axes>"
      ]
     },
     "metadata": {
      "needs_background": "light"
     },
     "output_type": "display_data"
    }
   ],
   "source": [
    "plt.figure(figsize=(16,5))\n",
    "\n",
    "plt.subplot(1,2,1)\n",
    "sns.distplot(df4['max_rs_quintal'])\n",
    "\n",
    "plt.subplot(1,2,2)\n",
    "sns.distplot(df4['modal_rs_quintal'])\n",
    "\n",
    "plt.show()"
   ]
  },
  {
   "cell_type": "code",
   "execution_count": 31,
   "id": "4976f732",
   "metadata": {},
   "outputs": [
    {
     "data": {
      "text/plain": [
       "2.0027409649255485"
      ]
     },
     "execution_count": 31,
     "metadata": {},
     "output_type": "execute_result"
    }
   ],
   "source": [
    "df4['arrival_tonnes'].skew()"
   ]
  },
  {
   "cell_type": "code",
   "execution_count": 32,
   "id": "3bd85d18",
   "metadata": {},
   "outputs": [
    {
     "data": {
      "text/plain": [
       "-0.015356805547035734"
      ]
     },
     "execution_count": 32,
     "metadata": {},
     "output_type": "execute_result"
    }
   ],
   "source": [
    "df4['min_rs_quintal'].skew()"
   ]
  },
  {
   "cell_type": "code",
   "execution_count": 33,
   "id": "39af7192",
   "metadata": {},
   "outputs": [
    {
     "data": {
      "text/plain": [
       "1.0216924407357"
      ]
     },
     "execution_count": 33,
     "metadata": {},
     "output_type": "execute_result"
    }
   ],
   "source": [
    "df4['max_rs_quintal'].skew()"
   ]
  },
  {
   "cell_type": "code",
   "execution_count": 34,
   "id": "1737b0c7",
   "metadata": {
    "scrolled": true
   },
   "outputs": [
    {
     "data": {
      "text/plain": [
       "0.8190042970281383"
      ]
     },
     "execution_count": 34,
     "metadata": {},
     "output_type": "execute_result"
    }
   ],
   "source": [
    "df4['modal_rs_quintal'].skew()"
   ]
  },
  {
   "cell_type": "code",
   "execution_count": 35,
   "id": "fc5f1dba",
   "metadata": {},
   "outputs": [
    {
     "data": {
      "text/plain": [
       "<AxesSubplot:xlabel='modal_rs_quintal'>"
      ]
     },
     "execution_count": 35,
     "metadata": {},
     "output_type": "execute_result"
    },
    {
     "data": {
      "image/png": "[encoded data removed]",
      "text/plain": [
       "<Figure size 1152x360 with 1 Axes>"
      ]
     },
     "metadata": {
      "needs_background": "light"
     },
     "output_type": "display_data"
    }
   ],
   "source": [
    "# seaborn.boxplot(x =tip['total_bill'])\n",
    "plt.figure(figsize=(16,5))\n",
    "sns.set(style=\"whitegrid\")\n",
    "sns.boxplot(x=df4['modal_rs_quintal'])"
   ]
  },
  {
   "cell_type": "code",
   "execution_count": 36,
   "id": "686d6ee3",
   "metadata": {
    "scrolled": true
   },
   "outputs": [
    {
     "data": {
      "text/plain": [
       "4000    40\n",
       "2300    40\n",
       "2500    20\n",
       "2400    20\n",
       "1800    20\n",
       "5000    20\n",
       "2800    20\n",
       "280     20\n",
       "Name: min_rs_quintal, dtype: int64"
      ]
     },
     "execution_count": 36,
     "metadata": {},
     "output_type": "execute_result"
    }
   ],
   "source": [
    "df4['min_rs_quintal'].value_counts()"
   ]
  },
  {
   "cell_type": "code",
   "execution_count": null,
   "id": "9dabddaa",
   "metadata": {},
   "outputs": [],
   "source": []
  },
  {
   "cell_type": "code",
   "execution_count": 37,
   "id": "daa6edb3",
   "metadata": {
    "scrolled": true
   },
   "outputs": [
    {
     "data": {
      "text/html": [
       "<div>\n",
       "<style scoped>\n",
       "    .dataframe tbody tr th:only-of-type {\n",
       "        vertical-align: middle;\n",
       "    }\n",
       "\n",
       "    .dataframe tbody tr th {\n",
       "        vertical-align: top;\n",
       "    }\n",
       "\n",
       "    .dataframe thead th {\n",
       "        text-align: right;\n",
       "    }\n",
       "</style>\n",
       "<table border=\"1\" class=\"dataframe\">\n",
       "  <thead>\n",
       "    <tr style=\"text-align: right;\">\n",
       "      <th></th>\n",
       "      <th>hyderabad - telangana - (southern)</th>\n",
       "      <th>idukki - kerala - (southern western)</th>\n",
       "      <th>kollam - kerala - (southern western)</th>\n",
       "      <th>ranga reddy - telangana - (southern)</th>\n",
       "      <th>sonipat - haryana - (northern)</th>\n",
       "      <th>surat - gujarat - (western)</th>\n",
       "      <th>wayanad - kerala - (southern western)</th>\n",
       "    </tr>\n",
       "  </thead>\n",
       "  <tbody>\n",
       "    <tr>\n",
       "      <th>96</th>\n",
       "      <td>0</td>\n",
       "      <td>0</td>\n",
       "      <td>0</td>\n",
       "      <td>0</td>\n",
       "      <td>0</td>\n",
       "      <td>1</td>\n",
       "      <td>0</td>\n",
       "    </tr>\n",
       "    <tr>\n",
       "      <th>97</th>\n",
       "      <td>0</td>\n",
       "      <td>0</td>\n",
       "      <td>0</td>\n",
       "      <td>0</td>\n",
       "      <td>1</td>\n",
       "      <td>0</td>\n",
       "      <td>0</td>\n",
       "    </tr>\n",
       "    <tr>\n",
       "      <th>98</th>\n",
       "      <td>1</td>\n",
       "      <td>0</td>\n",
       "      <td>0</td>\n",
       "      <td>0</td>\n",
       "      <td>0</td>\n",
       "      <td>0</td>\n",
       "      <td>0</td>\n",
       "    </tr>\n",
       "  </tbody>\n",
       "</table>\n",
       "</div>"
      ],
      "text/plain": [
       "    hyderabad - telangana - (southern)  idukki - kerala - (southern western)  \\\n",
       "96                                   0                                     0   \n",
       "97                                   0                                     0   \n",
       "98                                   1                                     0   \n",
       "\n",
       "    kollam - kerala - (southern western)  \\\n",
       "96                                     0   \n",
       "97                                     0   \n",
       "98                                     0   \n",
       "\n",
       "    ranga reddy - telangana - (southern)  sonipat - haryana - (northern)  \\\n",
       "96                                     0                               0   \n",
       "97                                     0                               1   \n",
       "98                                     0                               0   \n",
       "\n",
       "    surat - gujarat - (western)  wayanad - kerala - (southern western)  \n",
       "96                            1                                      0  \n",
       "97                            0                                      0  \n",
       "98                            0                                      0  "
      ]
     },
     "execution_count": 37,
     "metadata": {},
     "output_type": "execute_result"
    }
   ],
   "source": [
    "dummies1=pd.get_dummies(df4.district)\n",
    "dummies1.head(3)"
   ]
  },
  {
   "cell_type": "code",
   "execution_count": 38,
   "id": "7b381523",
   "metadata": {
    "scrolled": true
   },
   "outputs": [
    {
     "data": {
      "text/html": [
       "<div>\n",
       "<style scoped>\n",
       "    .dataframe tbody tr th:only-of-type {\n",
       "        vertical-align: middle;\n",
       "    }\n",
       "\n",
       "    .dataframe tbody tr th {\n",
       "        vertical-align: top;\n",
       "    }\n",
       "\n",
       "    .dataframe thead th {\n",
       "        text-align: right;\n",
       "    }\n",
       "</style>\n",
       "<table border=\"1\" class=\"dataframe\">\n",
       "  <thead>\n",
       "    <tr style=\"text-align: right;\">\n",
       "      <th></th>\n",
       "      <th>district</th>\n",
       "      <th>arrival_tonnes</th>\n",
       "      <th>min_rs_quintal</th>\n",
       "      <th>max_rs_quintal</th>\n",
       "      <th>modal_rs_quintal</th>\n",
       "      <th>crop_name</th>\n",
       "      <th>day</th>\n",
       "      <th>month</th>\n",
       "      <th>hyderabad - telangana - (southern)</th>\n",
       "      <th>idukki - kerala - (southern western)</th>\n",
       "      <th>kollam - kerala - (southern western)</th>\n",
       "      <th>ranga reddy - telangana - (southern)</th>\n",
       "      <th>sonipat - haryana - (northern)</th>\n",
       "      <th>surat - gujarat - (western)</th>\n",
       "      <th>wayanad - kerala - (southern western)</th>\n",
       "    </tr>\n",
       "  </thead>\n",
       "  <tbody>\n",
       "    <tr>\n",
       "      <th>96</th>\n",
       "      <td>surat - gujarat - (western)</td>\n",
       "      <td>1.50</td>\n",
       "      <td>4000</td>\n",
       "      <td>7500</td>\n",
       "      <td>5750</td>\n",
       "      <td>arhar dal(tur dal)</td>\n",
       "      <td>13</td>\n",
       "      <td>7</td>\n",
       "      <td>0</td>\n",
       "      <td>0</td>\n",
       "      <td>0</td>\n",
       "      <td>0</td>\n",
       "      <td>0</td>\n",
       "      <td>1</td>\n",
       "      <td>0</td>\n",
       "    </tr>\n",
       "    <tr>\n",
       "      <th>97</th>\n",
       "      <td>sonipat - haryana - (northern)</td>\n",
       "      <td>0.45</td>\n",
       "      <td>2500</td>\n",
       "      <td>3000</td>\n",
       "      <td>2800</td>\n",
       "      <td>arhar dal(tur dal)</td>\n",
       "      <td>13</td>\n",
       "      <td>7</td>\n",
       "      <td>0</td>\n",
       "      <td>0</td>\n",
       "      <td>0</td>\n",
       "      <td>0</td>\n",
       "      <td>1</td>\n",
       "      <td>0</td>\n",
       "      <td>0</td>\n",
       "    </tr>\n",
       "    <tr>\n",
       "      <th>98</th>\n",
       "      <td>hyderabad - telangana - (southern)</td>\n",
       "      <td>3.00</td>\n",
       "      <td>2300</td>\n",
       "      <td>2300</td>\n",
       "      <td>2300</td>\n",
       "      <td>arhar dal(tur dal)</td>\n",
       "      <td>13</td>\n",
       "      <td>7</td>\n",
       "      <td>1</td>\n",
       "      <td>0</td>\n",
       "      <td>0</td>\n",
       "      <td>0</td>\n",
       "      <td>0</td>\n",
       "      <td>0</td>\n",
       "      <td>0</td>\n",
       "    </tr>\n",
       "    <tr>\n",
       "      <th>99</th>\n",
       "      <td>ranga reddy - telangana - (southern)</td>\n",
       "      <td>0.40</td>\n",
       "      <td>2300</td>\n",
       "      <td>2300</td>\n",
       "      <td>2300</td>\n",
       "      <td>arhar dal(tur dal)</td>\n",
       "      <td>13</td>\n",
       "      <td>7</td>\n",
       "      <td>0</td>\n",
       "      <td>0</td>\n",
       "      <td>0</td>\n",
       "      <td>1</td>\n",
       "      <td>0</td>\n",
       "      <td>0</td>\n",
       "      <td>0</td>\n",
       "    </tr>\n",
       "    <tr>\n",
       "      <th>152</th>\n",
       "      <td>surat - gujarat - (western)</td>\n",
       "      <td>1.50</td>\n",
       "      <td>4000</td>\n",
       "      <td>7500</td>\n",
       "      <td>5750</td>\n",
       "      <td>papaya</td>\n",
       "      <td>13</td>\n",
       "      <td>7</td>\n",
       "      <td>0</td>\n",
       "      <td>0</td>\n",
       "      <td>0</td>\n",
       "      <td>0</td>\n",
       "      <td>0</td>\n",
       "      <td>1</td>\n",
       "      <td>0</td>\n",
       "    </tr>\n",
       "  </tbody>\n",
       "</table>\n",
       "</div>"
      ],
      "text/plain": [
       "                                 district  arrival_tonnes  min_rs_quintal  \\\n",
       "96            surat - gujarat - (western)            1.50            4000   \n",
       "97         sonipat - haryana - (northern)            0.45            2500   \n",
       "98     hyderabad - telangana - (southern)            3.00            2300   \n",
       "99   ranga reddy - telangana - (southern)            0.40            2300   \n",
       "152           surat - gujarat - (western)            1.50            4000   \n",
       "\n",
       "     max_rs_quintal  modal_rs_quintal           crop_name  day  month  \\\n",
       "96             7500              5750  arhar dal(tur dal)   13      7   \n",
       "97             3000              2800  arhar dal(tur dal)   13      7   \n",
       "98             2300              2300  arhar dal(tur dal)   13      7   \n",
       "99             2300              2300  arhar dal(tur dal)   13      7   \n",
       "152            7500              5750              papaya   13      7   \n",
       "\n",
       "     hyderabad - telangana - (southern)  idukki - kerala - (southern western)  \\\n",
       "96                                    0                                     0   \n",
       "97                                    0                                     0   \n",
       "98                                    1                                     0   \n",
       "99                                    0                                     0   \n",
       "152                                   0                                     0   \n",
       "\n",
       "     kollam - kerala - (southern western)  \\\n",
       "96                                      0   \n",
       "97                                      0   \n",
       "98                                      0   \n",
       "99                                      0   \n",
       "152                                     0   \n",
       "\n",
       "     ranga reddy - telangana - (southern)  sonipat - haryana - (northern)  \\\n",
       "96                                      0                               0   \n",
       "97                                      0                               1   \n",
       "98                                      0                               0   \n",
       "99                                      1                               0   \n",
       "152                                     0                               0   \n",
       "\n",
       "     surat - gujarat - (western)  wayanad - kerala - (southern western)  \n",
       "96                             1                                      0  \n",
       "97                             0                                      0  \n",
       "98                             0                                      0  \n",
       "99                             0                                      0  \n",
       "152                            1                                      0  "
      ]
     },
     "execution_count": 38,
     "metadata": {},
     "output_type": "execute_result"
    }
   ],
   "source": [
    "df4=pd.concat([df4,dummies1],axis='columns')\n",
    "df4.head()"
   ]
  },
  {
   "cell_type": "code",
   "execution_count": 39,
   "id": "6ab2d873",
   "metadata": {
    "scrolled": false
   },
   "outputs": [
    {
     "data": {
      "text/html": [
       "<div>\n",
       "<style scoped>\n",
       "    .dataframe tbody tr th:only-of-type {\n",
       "        vertical-align: middle;\n",
       "    }\n",
       "\n",
       "    .dataframe tbody tr th {\n",
       "        vertical-align: top;\n",
       "    }\n",
       "\n",
       "    .dataframe thead th {\n",
       "        text-align: right;\n",
       "    }\n",
       "</style>\n",
       "<table border=\"1\" class=\"dataframe\">\n",
       "  <thead>\n",
       "    <tr style=\"text-align: right;\">\n",
       "      <th></th>\n",
       "      <th>min_rs_quintal</th>\n",
       "      <th>max_rs_quintal</th>\n",
       "      <th>modal_rs_quintal</th>\n",
       "      <th>crop_name</th>\n",
       "      <th>day</th>\n",
       "      <th>month</th>\n",
       "      <th>hyderabad - telangana - (southern)</th>\n",
       "      <th>idukki - kerala - (southern western)</th>\n",
       "      <th>kollam - kerala - (southern western)</th>\n",
       "      <th>ranga reddy - telangana - (southern)</th>\n",
       "      <th>sonipat - haryana - (northern)</th>\n",
       "      <th>surat - gujarat - (western)</th>\n",
       "      <th>wayanad - kerala - (southern western)</th>\n",
       "    </tr>\n",
       "  </thead>\n",
       "  <tbody>\n",
       "    <tr>\n",
       "      <th>96</th>\n",
       "      <td>4000</td>\n",
       "      <td>7500</td>\n",
       "      <td>5750</td>\n",
       "      <td>arhar dal(tur dal)</td>\n",
       "      <td>13</td>\n",
       "      <td>7</td>\n",
       "      <td>0</td>\n",
       "      <td>0</td>\n",
       "      <td>0</td>\n",
       "      <td>0</td>\n",
       "      <td>0</td>\n",
       "      <td>1</td>\n",
       "      <td>0</td>\n",
       "    </tr>\n",
       "    <tr>\n",
       "      <th>97</th>\n",
       "      <td>2500</td>\n",
       "      <td>3000</td>\n",
       "      <td>2800</td>\n",
       "      <td>arhar dal(tur dal)</td>\n",
       "      <td>13</td>\n",
       "      <td>7</td>\n",
       "      <td>0</td>\n",
       "      <td>0</td>\n",
       "      <td>0</td>\n",
       "      <td>0</td>\n",
       "      <td>1</td>\n",
       "      <td>0</td>\n",
       "      <td>0</td>\n",
       "    </tr>\n",
       "  </tbody>\n",
       "</table>\n",
       "</div>"
      ],
      "text/plain": [
       "    min_rs_quintal  max_rs_quintal  modal_rs_quintal           crop_name  day  \\\n",
       "96            4000            7500              5750  arhar dal(tur dal)   13   \n",
       "97            2500            3000              2800  arhar dal(tur dal)   13   \n",
       "\n",
       "    month  hyderabad - telangana - (southern)  \\\n",
       "96      7                                   0   \n",
       "97      7                                   0   \n",
       "\n",
       "    idukki - kerala - (southern western)  \\\n",
       "96                                     0   \n",
       "97                                     0   \n",
       "\n",
       "    kollam - kerala - (southern western)  \\\n",
       "96                                     0   \n",
       "97                                     0   \n",
       "\n",
       "    ranga reddy - telangana - (southern)  sonipat - haryana - (northern)  \\\n",
       "96                                     0                               0   \n",
       "97                                     0                               1   \n",
       "\n",
       "    surat - gujarat - (western)  wayanad - kerala - (southern western)  \n",
       "96                            1                                      0  \n",
       "97                            0                                      0  "
      ]
     },
     "execution_count": 39,
     "metadata": {},
     "output_type": "execute_result"
    }
   ],
   "source": [
    "df5=df4.drop(['district','arrival_tonnes'],axis='columns')\n",
    "df5.head(2)"
   ]
  },
  {
   "cell_type": "code",
   "execution_count": 40,
   "id": "fffc6acc",
   "metadata": {
    "scrolled": true
   },
   "outputs": [
    {
     "data": {
      "text/plain": [
       "array(['arhar dal(tur dal)', 'papaya', 'rice', 'orange', 'banana',\n",
       "       'black gram (urd beans)(whole)', 'jute', 'coconut', 'cotton',\n",
       "       'maize', 'mango', 'pomegranate', 'grapes', 'apple',\n",
       "       'karbuja(musk melon)', 'coffee', 'water melon', 'beans',\n",
       "       'kabuli chana(chickpeas-white)', 'lentil (masur)(whole)'],\n",
       "      dtype=object)"
      ]
     },
     "execution_count": 40,
     "metadata": {},
     "output_type": "execute_result"
    }
   ],
   "source": [
    "df5['crop_name'].unique()"
   ]
  },
  {
   "cell_type": "code",
   "execution_count": 41,
   "id": "da25c89f",
   "metadata": {},
   "outputs": [
    {
     "data": {
      "text/html": [
       "<div>\n",
       "<style scoped>\n",
       "    .dataframe tbody tr th:only-of-type {\n",
       "        vertical-align: middle;\n",
       "    }\n",
       "\n",
       "    .dataframe tbody tr th {\n",
       "        vertical-align: top;\n",
       "    }\n",
       "\n",
       "    .dataframe thead th {\n",
       "        text-align: right;\n",
       "    }\n",
       "</style>\n",
       "<table border=\"1\" class=\"dataframe\">\n",
       "  <thead>\n",
       "    <tr style=\"text-align: right;\">\n",
       "      <th></th>\n",
       "      <th>apple</th>\n",
       "      <th>arhar dal(tur dal)</th>\n",
       "      <th>banana</th>\n",
       "      <th>beans</th>\n",
       "      <th>black gram (urd beans)(whole)</th>\n",
       "      <th>coconut</th>\n",
       "      <th>coffee</th>\n",
       "      <th>cotton</th>\n",
       "      <th>grapes</th>\n",
       "      <th>jute</th>\n",
       "      <th>kabuli chana(chickpeas-white)</th>\n",
       "      <th>karbuja(musk melon)</th>\n",
       "      <th>lentil (masur)(whole)</th>\n",
       "      <th>maize</th>\n",
       "      <th>mango</th>\n",
       "      <th>orange</th>\n",
       "      <th>papaya</th>\n",
       "      <th>pomegranate</th>\n",
       "      <th>rice</th>\n",
       "      <th>water melon</th>\n",
       "    </tr>\n",
       "  </thead>\n",
       "  <tbody>\n",
       "    <tr>\n",
       "      <th>96</th>\n",
       "      <td>0</td>\n",
       "      <td>1</td>\n",
       "      <td>0</td>\n",
       "      <td>0</td>\n",
       "      <td>0</td>\n",
       "      <td>0</td>\n",
       "      <td>0</td>\n",
       "      <td>0</td>\n",
       "      <td>0</td>\n",
       "      <td>0</td>\n",
       "      <td>0</td>\n",
       "      <td>0</td>\n",
       "      <td>0</td>\n",
       "      <td>0</td>\n",
       "      <td>0</td>\n",
       "      <td>0</td>\n",
       "      <td>0</td>\n",
       "      <td>0</td>\n",
       "      <td>0</td>\n",
       "      <td>0</td>\n",
       "    </tr>\n",
       "    <tr>\n",
       "      <th>97</th>\n",
       "      <td>0</td>\n",
       "      <td>1</td>\n",
       "      <td>0</td>\n",
       "      <td>0</td>\n",
       "      <td>0</td>\n",
       "      <td>0</td>\n",
       "      <td>0</td>\n",
       "      <td>0</td>\n",
       "      <td>0</td>\n",
       "      <td>0</td>\n",
       "      <td>0</td>\n",
       "      <td>0</td>\n",
       "      <td>0</td>\n",
       "      <td>0</td>\n",
       "      <td>0</td>\n",
       "      <td>0</td>\n",
       "      <td>0</td>\n",
       "      <td>0</td>\n",
       "      <td>0</td>\n",
       "      <td>0</td>\n",
       "    </tr>\n",
       "    <tr>\n",
       "      <th>98</th>\n",
       "      <td>0</td>\n",
       "      <td>1</td>\n",
       "      <td>0</td>\n",
       "      <td>0</td>\n",
       "      <td>0</td>\n",
       "      <td>0</td>\n",
       "      <td>0</td>\n",
       "      <td>0</td>\n",
       "      <td>0</td>\n",
       "      <td>0</td>\n",
       "      <td>0</td>\n",
       "      <td>0</td>\n",
       "      <td>0</td>\n",
       "      <td>0</td>\n",
       "      <td>0</td>\n",
       "      <td>0</td>\n",
       "      <td>0</td>\n",
       "      <td>0</td>\n",
       "      <td>0</td>\n",
       "      <td>0</td>\n",
       "    </tr>\n",
       "  </tbody>\n",
       "</table>\n",
       "</div>"
      ],
      "text/plain": [
       "    apple  arhar dal(tur dal)  banana  beans  black gram (urd beans)(whole)  \\\n",
       "96      0                   1       0      0                              0   \n",
       "97      0                   1       0      0                              0   \n",
       "98      0                   1       0      0                              0   \n",
       "\n",
       "    coconut  coffee  cotton  grapes  jute  kabuli chana(chickpeas-white)  \\\n",
       "96        0       0       0       0     0                              0   \n",
       "97        0       0       0       0     0                              0   \n",
       "98        0       0       0       0     0                              0   \n",
       "\n",
       "    karbuja(musk melon)  lentil (masur)(whole)  maize  mango  orange  papaya  \\\n",
       "96                    0                      0      0      0       0       0   \n",
       "97                    0                      0      0      0       0       0   \n",
       "98                    0                      0      0      0       0       0   \n",
       "\n",
       "    pomegranate  rice  water melon  \n",
       "96            0     0            0  \n",
       "97            0     0            0  \n",
       "98            0     0            0  "
      ]
     },
     "execution_count": 41,
     "metadata": {},
     "output_type": "execute_result"
    }
   ],
   "source": [
    "dummies2=pd.get_dummies(df4.crop_name)\n",
    "dummies2.head(3)"
   ]
  },
  {
   "cell_type": "code",
   "execution_count": 42,
   "id": "947b1387",
   "metadata": {
    "scrolled": true
   },
   "outputs": [
    {
     "data": {
      "text/html": [
       "<div>\n",
       "<style scoped>\n",
       "    .dataframe tbody tr th:only-of-type {\n",
       "        vertical-align: middle;\n",
       "    }\n",
       "\n",
       "    .dataframe tbody tr th {\n",
       "        vertical-align: top;\n",
       "    }\n",
       "\n",
       "    .dataframe thead th {\n",
       "        text-align: right;\n",
       "    }\n",
       "</style>\n",
       "<table border=\"1\" class=\"dataframe\">\n",
       "  <thead>\n",
       "    <tr style=\"text-align: right;\">\n",
       "      <th></th>\n",
       "      <th>min_rs_quintal</th>\n",
       "      <th>max_rs_quintal</th>\n",
       "      <th>modal_rs_quintal</th>\n",
       "      <th>crop_name</th>\n",
       "      <th>day</th>\n",
       "      <th>month</th>\n",
       "      <th>hyderabad - telangana - (southern)</th>\n",
       "      <th>idukki - kerala - (southern western)</th>\n",
       "      <th>kollam - kerala - (southern western)</th>\n",
       "      <th>ranga reddy - telangana - (southern)</th>\n",
       "      <th>...</th>\n",
       "      <th>kabuli chana(chickpeas-white)</th>\n",
       "      <th>karbuja(musk melon)</th>\n",
       "      <th>lentil (masur)(whole)</th>\n",
       "      <th>maize</th>\n",
       "      <th>mango</th>\n",
       "      <th>orange</th>\n",
       "      <th>papaya</th>\n",
       "      <th>pomegranate</th>\n",
       "      <th>rice</th>\n",
       "      <th>water melon</th>\n",
       "    </tr>\n",
       "  </thead>\n",
       "  <tbody>\n",
       "    <tr>\n",
       "      <th>96</th>\n",
       "      <td>4000</td>\n",
       "      <td>7500</td>\n",
       "      <td>5750</td>\n",
       "      <td>arhar dal(tur dal)</td>\n",
       "      <td>13</td>\n",
       "      <td>7</td>\n",
       "      <td>0</td>\n",
       "      <td>0</td>\n",
       "      <td>0</td>\n",
       "      <td>0</td>\n",
       "      <td>...</td>\n",
       "      <td>0</td>\n",
       "      <td>0</td>\n",
       "      <td>0</td>\n",
       "      <td>0</td>\n",
       "      <td>0</td>\n",
       "      <td>0</td>\n",
       "      <td>0</td>\n",
       "      <td>0</td>\n",
       "      <td>0</td>\n",
       "      <td>0</td>\n",
       "    </tr>\n",
       "    <tr>\n",
       "      <th>97</th>\n",
       "      <td>2500</td>\n",
       "      <td>3000</td>\n",
       "      <td>2800</td>\n",
       "      <td>arhar dal(tur dal)</td>\n",
       "      <td>13</td>\n",
       "      <td>7</td>\n",
       "      <td>0</td>\n",
       "      <td>0</td>\n",
       "      <td>0</td>\n",
       "      <td>0</td>\n",
       "      <td>...</td>\n",
       "      <td>0</td>\n",
       "      <td>0</td>\n",
       "      <td>0</td>\n",
       "      <td>0</td>\n",
       "      <td>0</td>\n",
       "      <td>0</td>\n",
       "      <td>0</td>\n",
       "      <td>0</td>\n",
       "      <td>0</td>\n",
       "      <td>0</td>\n",
       "    </tr>\n",
       "    <tr>\n",
       "      <th>98</th>\n",
       "      <td>2300</td>\n",
       "      <td>2300</td>\n",
       "      <td>2300</td>\n",
       "      <td>arhar dal(tur dal)</td>\n",
       "      <td>13</td>\n",
       "      <td>7</td>\n",
       "      <td>1</td>\n",
       "      <td>0</td>\n",
       "      <td>0</td>\n",
       "      <td>0</td>\n",
       "      <td>...</td>\n",
       "      <td>0</td>\n",
       "      <td>0</td>\n",
       "      <td>0</td>\n",
       "      <td>0</td>\n",
       "      <td>0</td>\n",
       "      <td>0</td>\n",
       "      <td>0</td>\n",
       "      <td>0</td>\n",
       "      <td>0</td>\n",
       "      <td>0</td>\n",
       "    </tr>\n",
       "    <tr>\n",
       "      <th>99</th>\n",
       "      <td>2300</td>\n",
       "      <td>2300</td>\n",
       "      <td>2300</td>\n",
       "      <td>arhar dal(tur dal)</td>\n",
       "      <td>13</td>\n",
       "      <td>7</td>\n",
       "      <td>0</td>\n",
       "      <td>0</td>\n",
       "      <td>0</td>\n",
       "      <td>1</td>\n",
       "      <td>...</td>\n",
       "      <td>0</td>\n",
       "      <td>0</td>\n",
       "      <td>0</td>\n",
       "      <td>0</td>\n",
       "      <td>0</td>\n",
       "      <td>0</td>\n",
       "      <td>0</td>\n",
       "      <td>0</td>\n",
       "      <td>0</td>\n",
       "      <td>0</td>\n",
       "    </tr>\n",
       "    <tr>\n",
       "      <th>152</th>\n",
       "      <td>4000</td>\n",
       "      <td>7500</td>\n",
       "      <td>5750</td>\n",
       "      <td>papaya</td>\n",
       "      <td>13</td>\n",
       "      <td>7</td>\n",
       "      <td>0</td>\n",
       "      <td>0</td>\n",
       "      <td>0</td>\n",
       "      <td>0</td>\n",
       "      <td>...</td>\n",
       "      <td>0</td>\n",
       "      <td>0</td>\n",
       "      <td>0</td>\n",
       "      <td>0</td>\n",
       "      <td>0</td>\n",
       "      <td>0</td>\n",
       "      <td>1</td>\n",
       "      <td>0</td>\n",
       "      <td>0</td>\n",
       "      <td>0</td>\n",
       "    </tr>\n",
       "  </tbody>\n",
       "</table>\n",
       "<p>5 rows × 33 columns</p>\n",
       "</div>"
      ],
      "text/plain": [
       "     min_rs_quintal  max_rs_quintal  modal_rs_quintal           crop_name  \\\n",
       "96             4000            7500              5750  arhar dal(tur dal)   \n",
       "97             2500            3000              2800  arhar dal(tur dal)   \n",
       "98             2300            2300              2300  arhar dal(tur dal)   \n",
       "99             2300            2300              2300  arhar dal(tur dal)   \n",
       "152            4000            7500              5750              papaya   \n",
       "\n",
       "     day  month  hyderabad - telangana - (southern)  \\\n",
       "96    13      7                                   0   \n",
       "97    13      7                                   0   \n",
       "98    13      7                                   1   \n",
       "99    13      7                                   0   \n",
       "152   13      7                                   0   \n",
       "\n",
       "     idukki - kerala - (southern western)  \\\n",
       "96                                      0   \n",
       "97                                      0   \n",
       "98                                      0   \n",
       "99                                      0   \n",
       "152                                     0   \n",
       "\n",
       "     kollam - kerala - (southern western)  \\\n",
       "96                                      0   \n",
       "97                                      0   \n",
       "98                                      0   \n",
       "99                                      0   \n",
       "152                                     0   \n",
       "\n",
       "     ranga reddy - telangana - (southern)  ...  kabuli chana(chickpeas-white)  \\\n",
       "96                                      0  ...                              0   \n",
       "97                                      0  ...                              0   \n",
       "98                                      0  ...                              0   \n",
       "99                                      1  ...                              0   \n",
       "152                                     0  ...                              0   \n",
       "\n",
       "     karbuja(musk melon)  lentil (masur)(whole)  maize  mango  orange  papaya  \\\n",
       "96                     0                      0      0      0       0       0   \n",
       "97                     0                      0      0      0       0       0   \n",
       "98                     0                      0      0      0       0       0   \n",
       "99                     0                      0      0      0       0       0   \n",
       "152                    0                      0      0      0       0       1   \n",
       "\n",
       "     pomegranate  rice  water melon  \n",
       "96             0     0            0  \n",
       "97             0     0            0  \n",
       "98             0     0            0  \n",
       "99             0     0            0  \n",
       "152            0     0            0  \n",
       "\n",
       "[5 rows x 33 columns]"
      ]
     },
     "execution_count": 42,
     "metadata": {},
     "output_type": "execute_result"
    }
   ],
   "source": [
    "df6=pd.concat([df5,dummies2],axis='columns')\n",
    "df6.head()"
   ]
  },
  {
   "cell_type": "code",
   "execution_count": 43,
   "id": "2b1b3d5f",
   "metadata": {
    "scrolled": true
   },
   "outputs": [
    {
     "data": {
      "text/html": [
       "<div>\n",
       "<style scoped>\n",
       "    .dataframe tbody tr th:only-of-type {\n",
       "        vertical-align: middle;\n",
       "    }\n",
       "\n",
       "    .dataframe tbody tr th {\n",
       "        vertical-align: top;\n",
       "    }\n",
       "\n",
       "    .dataframe thead th {\n",
       "        text-align: right;\n",
       "    }\n",
       "</style>\n",
       "<table border=\"1\" class=\"dataframe\">\n",
       "  <thead>\n",
       "    <tr style=\"text-align: right;\">\n",
       "      <th></th>\n",
       "      <th>modal_rs_quintal</th>\n",
       "      <th>day</th>\n",
       "      <th>month</th>\n",
       "      <th>hyderabad - telangana - (southern)</th>\n",
       "      <th>idukki - kerala - (southern western)</th>\n",
       "      <th>kollam - kerala - (southern western)</th>\n",
       "      <th>ranga reddy - telangana - (southern)</th>\n",
       "      <th>sonipat - haryana - (northern)</th>\n",
       "      <th>surat - gujarat - (western)</th>\n",
       "      <th>wayanad - kerala - (southern western)</th>\n",
       "      <th>...</th>\n",
       "      <th>kabuli chana(chickpeas-white)</th>\n",
       "      <th>karbuja(musk melon)</th>\n",
       "      <th>lentil (masur)(whole)</th>\n",
       "      <th>maize</th>\n",
       "      <th>mango</th>\n",
       "      <th>orange</th>\n",
       "      <th>papaya</th>\n",
       "      <th>pomegranate</th>\n",
       "      <th>rice</th>\n",
       "      <th>water melon</th>\n",
       "    </tr>\n",
       "  </thead>\n",
       "  <tbody>\n",
       "    <tr>\n",
       "      <th>96</th>\n",
       "      <td>5750</td>\n",
       "      <td>13</td>\n",
       "      <td>7</td>\n",
       "      <td>0</td>\n",
       "      <td>0</td>\n",
       "      <td>0</td>\n",
       "      <td>0</td>\n",
       "      <td>0</td>\n",
       "      <td>1</td>\n",
       "      <td>0</td>\n",
       "      <td>...</td>\n",
       "      <td>0</td>\n",
       "      <td>0</td>\n",
       "      <td>0</td>\n",
       "      <td>0</td>\n",
       "      <td>0</td>\n",
       "      <td>0</td>\n",
       "      <td>0</td>\n",
       "      <td>0</td>\n",
       "      <td>0</td>\n",
       "      <td>0</td>\n",
       "    </tr>\n",
       "    <tr>\n",
       "      <th>97</th>\n",
       "      <td>2800</td>\n",
       "      <td>13</td>\n",
       "      <td>7</td>\n",
       "      <td>0</td>\n",
       "      <td>0</td>\n",
       "      <td>0</td>\n",
       "      <td>0</td>\n",
       "      <td>1</td>\n",
       "      <td>0</td>\n",
       "      <td>0</td>\n",
       "      <td>...</td>\n",
       "      <td>0</td>\n",
       "      <td>0</td>\n",
       "      <td>0</td>\n",
       "      <td>0</td>\n",
       "      <td>0</td>\n",
       "      <td>0</td>\n",
       "      <td>0</td>\n",
       "      <td>0</td>\n",
       "      <td>0</td>\n",
       "      <td>0</td>\n",
       "    </tr>\n",
       "  </tbody>\n",
       "</table>\n",
       "<p>2 rows × 30 columns</p>\n",
       "</div>"
      ],
      "text/plain": [
       "    modal_rs_quintal  day  month  hyderabad - telangana - (southern)  \\\n",
       "96              5750   13      7                                   0   \n",
       "97              2800   13      7                                   0   \n",
       "\n",
       "    idukki - kerala - (southern western)  \\\n",
       "96                                     0   \n",
       "97                                     0   \n",
       "\n",
       "    kollam - kerala - (southern western)  \\\n",
       "96                                     0   \n",
       "97                                     0   \n",
       "\n",
       "    ranga reddy - telangana - (southern)  sonipat - haryana - (northern)  \\\n",
       "96                                     0                               0   \n",
       "97                                     0                               1   \n",
       "\n",
       "    surat - gujarat - (western)  wayanad - kerala - (southern western)  ...  \\\n",
       "96                            1                                      0  ...   \n",
       "97                            0                                      0  ...   \n",
       "\n",
       "    kabuli chana(chickpeas-white)  karbuja(musk melon)  lentil (masur)(whole)  \\\n",
       "96                              0                    0                      0   \n",
       "97                              0                    0                      0   \n",
       "\n",
       "    maize  mango  orange  papaya  pomegranate  rice  water melon  \n",
       "96      0      0       0       0            0     0            0  \n",
       "97      0      0       0       0            0     0            0  \n",
       "\n",
       "[2 rows x 30 columns]"
      ]
     },
     "execution_count": 43,
     "metadata": {},
     "output_type": "execute_result"
    }
   ],
   "source": [
    "df7=df6.drop(['crop_name','min_rs_quintal','max_rs_quintal'],axis='columns')\n",
    "df7.head(2)"
   ]
  },
  {
   "cell_type": "code",
   "execution_count": 44,
   "id": "47efc1f4",
   "metadata": {},
   "outputs": [
    {
     "data": {
      "text/plain": [
       "Index(['modal_rs_quintal', 'day', 'month',\n",
       "       'hyderabad - telangana - (southern)',\n",
       "       'idukki - kerala - (southern western)',\n",
       "       'kollam - kerala - (southern western)',\n",
       "       'ranga reddy - telangana - (southern)',\n",
       "       'sonipat - haryana - (northern)', 'surat - gujarat - (western)',\n",
       "       'wayanad - kerala - (southern western)', 'apple', 'arhar dal(tur dal)',\n",
       "       'banana', 'beans', 'black gram (urd beans)(whole)', 'coconut', 'coffee',\n",
       "       'cotton', 'grapes', 'jute', 'kabuli chana(chickpeas-white)',\n",
       "       'karbuja(musk melon)', 'lentil (masur)(whole)', 'maize', 'mango',\n",
       "       'orange', 'papaya', 'pomegranate', 'rice', 'water melon'],\n",
       "      dtype='object')"
      ]
     },
     "execution_count": 44,
     "metadata": {},
     "output_type": "execute_result"
    }
   ],
   "source": [
    "df7.columns"
   ]
  },
  {
   "cell_type": "markdown",
   "id": "c9782d15",
   "metadata": {},
   "source": [
    "# label encoding process"
   ]
  },
  {
   "cell_type": "code",
   "execution_count": 45,
   "id": "56fa5fee",
   "metadata": {},
   "outputs": [],
   "source": [
    "X=df7.drop(['modal_rs_quintal'],axis='columns')"
   ]
  },
  {
   "cell_type": "code",
   "execution_count": 46,
   "id": "f94e6082",
   "metadata": {},
   "outputs": [],
   "source": [
    "y=df7.modal_rs_quintal"
   ]
  },
  {
   "cell_type": "code",
   "execution_count": 47,
   "id": "be094c7c",
   "metadata": {},
   "outputs": [
    {
     "data": {
      "text/plain": [
       "96     5750\n",
       "97     2800\n",
       "98     2300\n",
       "99     2300\n",
       "152    5750\n",
       "Name: modal_rs_quintal, dtype: int64"
      ]
     },
     "execution_count": 47,
     "metadata": {},
     "output_type": "execute_result"
    }
   ],
   "source": [
    "y.head()"
   ]
  },
  {
   "cell_type": "code",
   "execution_count": 48,
   "id": "cd341e57",
   "metadata": {},
   "outputs": [
    {
     "data": {
      "text/plain": [
       "RandomForestClassifier(random_state=42)"
      ]
     },
     "execution_count": 48,
     "metadata": {},
     "output_type": "execute_result"
    }
   ],
   "source": [
    "from sklearn.ensemble import RandomForestClassifier\n",
    "from sklearn.model_selection import train_test_split\n",
    "\n",
    "# split data into train and test sets\n",
    "X_train, X_test, y_train_price, y_test_price =  train_test_split(X, y, test_size=0.2, random_state=42)\n",
    "\n",
    "# train random forest classifier for diagnosis\n",
    "rfc_price = RandomForestClassifier(n_estimators=100, random_state=42)\n",
    "rfc_price.fit(X_train, y_train_price)"
   ]
  },
  {
   "cell_type": "code",
   "execution_count": 49,
   "id": "ff6d12a2",
   "metadata": {},
   "outputs": [
    {
     "data": {
      "text/plain": [
       "1.0"
      ]
     },
     "execution_count": 49,
     "metadata": {},
     "output_type": "execute_result"
    }
   ],
   "source": [
    "rfc_price.score(X_test,y_test_price)"
   ]
  },
  {
   "cell_type": "code",
   "execution_count": 50,
   "id": "5074c5d8",
   "metadata": {
    "scrolled": true
   },
   "outputs": [
    {
     "data": {
      "text/plain": [
       "array([5300, 2300, 2300, 5750, 5750, 2800, 2800, 5750, 2800, 2800, 2300,\n",
       "       5750, 2500, 2300, 2800, 2500, 5750, 5750, 2100, 5750, 2100, 5750,\n",
       "       2100, 2500, 2800, 5750, 2800, 2300, 5300, 2800, 2800, 2300, 2300,\n",
       "       2300, 2800, 5750, 2500, 5300, 5750, 5750], dtype=int64)"
      ]
     },
     "execution_count": 50,
     "metadata": {},
     "output_type": "execute_result"
    }
   ],
   "source": [
    "rfc_price.predict(X_test)"
   ]
  },
  {
   "cell_type": "code",
   "execution_count": 51,
   "id": "9f8797c1",
   "metadata": {
    "scrolled": false
   },
   "outputs": [
    {
     "data": {
      "text/plain": [
       "1679    5300\n",
       "283     2300\n",
       "498     2300\n",
       "2972    5750\n",
       "2510    5750\n",
       "1747    2800\n",
       "1237    2800\n",
       "3194    5750\n",
       "3198    2800\n",
       "921     2800\n",
       "1082    2300\n",
       "3218    5750\n",
       "3129    2500\n",
       "1342    2300\n",
       "3222    2800\n",
       "3213    2500\n",
       "1024    5750\n",
       "2966    5750\n",
       "1492    2100\n",
       "1236    5750\n",
       "2326    2100\n",
       "360     5750\n",
       "2830    2100\n",
       "1677    2500\n",
       "1081    2800\n",
       "1040    5750\n",
       "1494    2800\n",
       "1083    2300\n",
       "2327    5300\n",
       "2514    2800\n",
       "193     2800\n",
       "362     2300\n",
       "991     2300\n",
       "1243    2300\n",
       "2832    2800\n",
       "1736    5750\n",
       "2547    2500\n",
       "2549    5300\n",
       "3128    5750\n",
       "1340    5750\n",
       "Name: modal_rs_quintal, dtype: int64"
      ]
     },
     "execution_count": 51,
     "metadata": {},
     "output_type": "execute_result"
    }
   ],
   "source": [
    "y_test_price"
   ]
  },
  {
   "cell_type": "code",
   "execution_count": 52,
   "id": "0587fe3a",
   "metadata": {
    "scrolled": true
   },
   "outputs": [
    {
     "data": {
      "text/plain": [
       "Index(['modal_rs_quintal', 'day', 'month',\n",
       "       'hyderabad - telangana - (southern)',\n",
       "       'idukki - kerala - (southern western)',\n",
       "       'kollam - kerala - (southern western)',\n",
       "       'ranga reddy - telangana - (southern)',\n",
       "       'sonipat - haryana - (northern)', 'surat - gujarat - (western)',\n",
       "       'wayanad - kerala - (southern western)', 'apple', 'arhar dal(tur dal)',\n",
       "       'banana', 'beans', 'black gram (urd beans)(whole)', 'coconut', 'coffee',\n",
       "       'cotton', 'grapes', 'jute', 'kabuli chana(chickpeas-white)',\n",
       "       'karbuja(musk melon)', 'lentil (masur)(whole)', 'maize', 'mango',\n",
       "       'orange', 'papaya', 'pomegranate', 'rice', 'water melon'],\n",
       "      dtype='object')"
      ]
     },
     "execution_count": 52,
     "metadata": {},
     "output_type": "execute_result"
    }
   ],
   "source": [
    "df7.columns"
   ]
  },
  {
   "cell_type": "markdown",
   "id": "d09ee730",
   "metadata": {},
   "source": [
    "# dataset mein modal_price_per_quinntal hai idhar name short karne ke chakkar mein per haat gya tha"
   ]
  },
  {
   "cell_type": "code",
   "execution_count": 53,
   "id": "43625aa6",
   "metadata": {},
   "outputs": [],
   "source": [
    "def predict_crop_price(region,crop_name,day,month):\n",
    "    \n",
    "    # Initialize x array with zeros of length equal to number of columns in X\n",
    "    x = np.zeros(len(X.columns))\n",
    "    \n",
    "    # Find the index of Cardiac_CT and Previous_illnesses in the X.columns array\n",
    "    loc_index1 = np.where(X.columns == region)[0][0]\n",
    "    loc_index2 = np.where(X.columns == crop_name)[0][0]\n",
    "    \n",
    "    # Set the corresponding feature values in the x array\n",
    "    x[0] = day\n",
    "    x[1] = month\n",
    "    \n",
    "    # Set the values of the Cardiac_CT and Previous_illnesses features to 1\n",
    "    if loc_index1>0:\n",
    "        x[loc_index1]=1\n",
    "    if loc_index2>0:\n",
    "        x[loc_index2]=1\n",
    "    \n",
    "    # Use the trained random forest classifier model to predict the diagnosis\n",
    "    modal_price = rfc_price.predict([x])[0]\n",
    "    \n",
    "    return modal_price"
   ]
  },
  {
   "cell_type": "code",
   "execution_count": null,
   "id": "e1fc270a",
   "metadata": {},
   "outputs": [],
   "source": []
  },
  {
   "cell_type": "code",
   "execution_count": 54,
   "id": "1485af42",
   "metadata": {
    "scrolled": true
   },
   "outputs": [
    {
     "name": "stderr",
     "output_type": "stream",
     "text": [
      "c:\\users\\paltu\\appdata\\local\\programs\\python\\python37\\lib\\site-packages\\sklearn\\base.py:451: UserWarning: X does not have valid feature names, but RandomForestClassifier was fitted with feature names\n",
      "  \"X does not have valid feature names, but\"\n"
     ]
    },
    {
     "data": {
      "text/plain": [
       "2300"
      ]
     },
     "execution_count": 54,
     "metadata": {},
     "output_type": "execute_result"
    }
   ],
   "source": [
    "predict_crop_price('ranga reddy - telangana - (southern)','orange',5,7)"
   ]
  },
  {
   "cell_type": "code",
   "execution_count": 55,
   "id": "1220e601",
   "metadata": {},
   "outputs": [],
   "source": [
    "from sklearn.metrics import confusion_matrix\n",
    "import seaborn as sns"
   ]
  },
  {
   "cell_type": "code",
   "execution_count": 56,
   "id": "e132e03f",
   "metadata": {},
   "outputs": [],
   "source": [
    "cm=confusion_matrix(y_test_price,rfc_price.predict(X_test))"
   ]
  },
  {
   "cell_type": "code",
   "execution_count": 57,
   "id": "79377363",
   "metadata": {},
   "outputs": [
    {
     "data": {
      "text/plain": [
       "<matplotlib.image.AxesImage at 0x2054dcab208>"
      ]
     },
     "execution_count": 57,
     "metadata": {},
     "output_type": "execute_result"
    },
    {
     "data": {
      "image/png": "[encoded data removed]",
      "text/plain": [
       "<Figure size 1440x720 with 1 Axes>"
      ]
     },
     "metadata": {},
     "output_type": "display_data"
    }
   ],
   "source": [
    "plt.imshow(cm)"
   ]
  },
  {
   "cell_type": "code",
   "execution_count": 58,
   "id": "cd7af442",
   "metadata": {},
   "outputs": [],
   "source": [
    "from sklearn.metrics import classification_report"
   ]
  },
  {
   "cell_type": "code",
   "execution_count": 59,
   "id": "99053ce2",
   "metadata": {},
   "outputs": [
    {
     "name": "stdout",
     "output_type": "stream",
     "text": [
      "              precision    recall  f1-score   support\n",
      "\n",
      "        2100       1.00      1.00      1.00         3\n",
      "        2300       1.00      1.00      1.00         8\n",
      "        2500       1.00      1.00      1.00         4\n",
      "        2800       1.00      1.00      1.00        10\n",
      "        5300       1.00      1.00      1.00         3\n",
      "        5750       1.00      1.00      1.00        12\n",
      "\n",
      "    accuracy                           1.00        40\n",
      "   macro avg       1.00      1.00      1.00        40\n",
      "weighted avg       1.00      1.00      1.00        40\n",
      "\n"
     ]
    }
   ],
   "source": [
    "print(classification_report(y_test_price, rfc_price.predict(X_test)))"
   ]
  },
  {
   "cell_type": "code",
   "execution_count": 60,
   "id": "ebdd7cea",
   "metadata": {},
   "outputs": [],
   "source": [
    "from sklearn import metrics"
   ]
  },
  {
   "cell_type": "code",
   "execution_count": 62,
   "id": "6a6aa238",
   "metadata": {},
   "outputs": [
    {
     "data": {
      "text/plain": [
       "1.0"
      ]
     },
     "execution_count": 62,
     "metadata": {},
     "output_type": "execute_result"
    }
   ],
   "source": [
    "Accuracy = metrics.accuracy_score(y_test_price,rfc_price.predict(X_test))\n",
    "Accuracy"
   ]
  },
  {
   "cell_type": "code",
   "execution_count": 78,
   "id": "d56f70db",
   "metadata": {
    "scrolled": true
   },
   "outputs": [
    {
     "ename": "IndexError",
     "evalue": "index 0 is out of bounds for axis 0 with size 0",
     "output_type": "error",
     "traceback": [
      "\u001b[1;31m---------------------------------------------------------------------------\u001b[0m",
      "\u001b[1;31mIndexError\u001b[0m                                Traceback (most recent call last)",
      "\u001b[1;32m~\\AppData\\Local\\Temp/ipykernel_23732/3439189293.py\u001b[0m in \u001b[0;36m<module>\u001b[1;34m\u001b[0m\n\u001b[1;32m----> 1\u001b[1;33m \u001b[0mpredict_crop_price\u001b[0m\u001b[1;33m(\u001b[0m\u001b[1;34m'Kollam - Kerala - (Southern Western)'\u001b[0m\u001b[1;33m,\u001b[0m\u001b[1;34m'Orange'\u001b[0m\u001b[1;33m,\u001b[0m\u001b[1;36m14\u001b[0m\u001b[1;33m,\u001b[0m\u001b[1;36m7\u001b[0m\u001b[1;33m)\u001b[0m\u001b[1;33m\u001b[0m\u001b[1;33m\u001b[0m\u001b[0m\n\u001b[0m",
      "\u001b[1;32m~\\AppData\\Local\\Temp/ipykernel_23732/1224833815.py\u001b[0m in \u001b[0;36mpredict_crop_price\u001b[1;34m(region, crop_name, day, month)\u001b[0m\n\u001b[0;32m      5\u001b[0m \u001b[1;33m\u001b[0m\u001b[0m\n\u001b[0;32m      6\u001b[0m     \u001b[1;31m# Find the index of Cardiac_CT and Previous_illnesses in the X.columns array\u001b[0m\u001b[1;33m\u001b[0m\u001b[1;33m\u001b[0m\u001b[1;33m\u001b[0m\u001b[0m\n\u001b[1;32m----> 7\u001b[1;33m     \u001b[0mloc_index1\u001b[0m \u001b[1;33m=\u001b[0m \u001b[0mnp\u001b[0m\u001b[1;33m.\u001b[0m\u001b[0mwhere\u001b[0m\u001b[1;33m(\u001b[0m\u001b[0mX\u001b[0m\u001b[1;33m.\u001b[0m\u001b[0mcolumns\u001b[0m \u001b[1;33m==\u001b[0m \u001b[0mregion\u001b[0m\u001b[1;33m)\u001b[0m\u001b[1;33m[\u001b[0m\u001b[1;36m0\u001b[0m\u001b[1;33m]\u001b[0m\u001b[1;33m[\u001b[0m\u001b[1;36m0\u001b[0m\u001b[1;33m]\u001b[0m\u001b[1;33m\u001b[0m\u001b[1;33m\u001b[0m\u001b[0m\n\u001b[0m\u001b[0;32m      8\u001b[0m     \u001b[0mloc_index2\u001b[0m \u001b[1;33m=\u001b[0m \u001b[0mnp\u001b[0m\u001b[1;33m.\u001b[0m\u001b[0mwhere\u001b[0m\u001b[1;33m(\u001b[0m\u001b[0mX\u001b[0m\u001b[1;33m.\u001b[0m\u001b[0mcolumns\u001b[0m \u001b[1;33m==\u001b[0m \u001b[0mcrop_name\u001b[0m\u001b[1;33m)\u001b[0m\u001b[1;33m[\u001b[0m\u001b[1;36m0\u001b[0m\u001b[1;33m]\u001b[0m\u001b[1;33m[\u001b[0m\u001b[1;36m0\u001b[0m\u001b[1;33m]\u001b[0m\u001b[1;33m\u001b[0m\u001b[1;33m\u001b[0m\u001b[0m\n\u001b[0;32m      9\u001b[0m \u001b[1;33m\u001b[0m\u001b[0m\n",
      "\u001b[1;31mIndexError\u001b[0m: index 0 is out of bounds for axis 0 with size 0"
     ]
    }
   ],
   "source": [
    "predict_crop_price('Kollam - Kerala - (Southern Western)','Orange',14,7)"
   ]
  },
  {
   "cell_type": "code",
   "execution_count": 56,
   "id": "d347fa7d",
   "metadata": {
    "scrolled": true
   },
   "outputs": [
    {
     "ename": "IndexError",
     "evalue": "index 0 is out of bounds for axis 0 with size 0",
     "output_type": "error",
     "traceback": [
      "\u001b[1;31m---------------------------------------------------------------------------\u001b[0m",
      "\u001b[1;31mIndexError\u001b[0m                                Traceback (most recent call last)",
      "\u001b[1;32m~\\AppData\\Local\\Temp/ipykernel_23732/2015497995.py\u001b[0m in \u001b[0;36m<module>\u001b[1;34m\u001b[0m\n\u001b[1;32m----> 1\u001b[1;33m \u001b[0mpredict_crop_price\u001b[0m\u001b[1;33m(\u001b[0m\u001b[1;34m'Sonipat - Haryana - (Northern)'\u001b[0m\u001b[1;33m,\u001b[0m\u001b[1;34m'Apple'\u001b[0m\u001b[1;33m,\u001b[0m\u001b[1;36m14\u001b[0m\u001b[1;33m,\u001b[0m\u001b[1;36m7\u001b[0m\u001b[1;33m)\u001b[0m\u001b[1;33m\u001b[0m\u001b[1;33m\u001b[0m\u001b[0m\n\u001b[0m",
      "\u001b[1;32m~\\AppData\\Local\\Temp/ipykernel_23732/3492861551.py\u001b[0m in \u001b[0;36mpredict_crop_price\u001b[1;34m(region, crop_name, day, month)\u001b[0m\n\u001b[0;32m      5\u001b[0m \u001b[1;33m\u001b[0m\u001b[0m\n\u001b[0;32m      6\u001b[0m     \u001b[1;31m# Find the index of Cardiac_CT and Previous_illnesses in the X.columns array\u001b[0m\u001b[1;33m\u001b[0m\u001b[1;33m\u001b[0m\u001b[1;33m\u001b[0m\u001b[0m\n\u001b[1;32m----> 7\u001b[1;33m     \u001b[0mloc_index1\u001b[0m \u001b[1;33m=\u001b[0m \u001b[0mnp\u001b[0m\u001b[1;33m.\u001b[0m\u001b[0mwhere\u001b[0m\u001b[1;33m(\u001b[0m\u001b[0mX\u001b[0m\u001b[1;33m.\u001b[0m\u001b[0mcolumns\u001b[0m \u001b[1;33m==\u001b[0m \u001b[0mregion\u001b[0m\u001b[1;33m)\u001b[0m\u001b[1;33m[\u001b[0m\u001b[1;36m0\u001b[0m\u001b[1;33m]\u001b[0m\u001b[1;33m[\u001b[0m\u001b[1;36m0\u001b[0m\u001b[1;33m]\u001b[0m\u001b[1;33m\u001b[0m\u001b[1;33m\u001b[0m\u001b[0m\n\u001b[0m\u001b[0;32m      8\u001b[0m     \u001b[0mloc_index2\u001b[0m \u001b[1;33m=\u001b[0m \u001b[0mnp\u001b[0m\u001b[1;33m.\u001b[0m\u001b[0mwhere\u001b[0m\u001b[1;33m(\u001b[0m\u001b[0mX\u001b[0m\u001b[1;33m.\u001b[0m\u001b[0mcolumns\u001b[0m \u001b[1;33m==\u001b[0m \u001b[0mcrop_name\u001b[0m\u001b[1;33m)\u001b[0m\u001b[1;33m[\u001b[0m\u001b[1;36m0\u001b[0m\u001b[1;33m]\u001b[0m\u001b[1;33m[\u001b[0m\u001b[1;36m0\u001b[0m\u001b[1;33m]\u001b[0m\u001b[1;33m\u001b[0m\u001b[1;33m\u001b[0m\u001b[0m\n\u001b[0;32m      9\u001b[0m \u001b[1;33m\u001b[0m\u001b[0m\n",
      "\u001b[1;31mIndexError\u001b[0m: index 0 is out of bounds for axis 0 with size 0"
     ]
    }
   ],
   "source": [
    "predict_crop_price('Sonipat - Haryana - (Northern)','Apple',14,7)"
   ]
  },
  {
   "cell_type": "code",
   "execution_count": 57,
   "id": "1554612d",
   "metadata": {
    "scrolled": true
   },
   "outputs": [
    {
     "ename": "IndexError",
     "evalue": "index 0 is out of bounds for axis 0 with size 0",
     "output_type": "error",
     "traceback": [
      "\u001b[1;31m---------------------------------------------------------------------------\u001b[0m",
      "\u001b[1;31mIndexError\u001b[0m                                Traceback (most recent call last)",
      "\u001b[1;32m~\\AppData\\Local\\Temp/ipykernel_23732/3285161870.py\u001b[0m in \u001b[0;36m<module>\u001b[1;34m\u001b[0m\n\u001b[1;32m----> 1\u001b[1;33m \u001b[0mpredict_crop_price\u001b[0m\u001b[1;33m(\u001b[0m\u001b[1;34m'Surat - Gujarat - (Western)'\u001b[0m\u001b[1;33m,\u001b[0m\u001b[1;34m'Banana'\u001b[0m\u001b[1;33m,\u001b[0m\u001b[1;36m14\u001b[0m\u001b[1;33m,\u001b[0m\u001b[1;36m7\u001b[0m\u001b[1;33m)\u001b[0m\u001b[1;33m\u001b[0m\u001b[1;33m\u001b[0m\u001b[0m\n\u001b[0m",
      "\u001b[1;32m~\\AppData\\Local\\Temp/ipykernel_23732/3492861551.py\u001b[0m in \u001b[0;36mpredict_crop_price\u001b[1;34m(region, crop_name, day, month)\u001b[0m\n\u001b[0;32m      5\u001b[0m \u001b[1;33m\u001b[0m\u001b[0m\n\u001b[0;32m      6\u001b[0m     \u001b[1;31m# Find the index of Cardiac_CT and Previous_illnesses in the X.columns array\u001b[0m\u001b[1;33m\u001b[0m\u001b[1;33m\u001b[0m\u001b[1;33m\u001b[0m\u001b[0m\n\u001b[1;32m----> 7\u001b[1;33m     \u001b[0mloc_index1\u001b[0m \u001b[1;33m=\u001b[0m \u001b[0mnp\u001b[0m\u001b[1;33m.\u001b[0m\u001b[0mwhere\u001b[0m\u001b[1;33m(\u001b[0m\u001b[0mX\u001b[0m\u001b[1;33m.\u001b[0m\u001b[0mcolumns\u001b[0m \u001b[1;33m==\u001b[0m \u001b[0mregion\u001b[0m\u001b[1;33m)\u001b[0m\u001b[1;33m[\u001b[0m\u001b[1;36m0\u001b[0m\u001b[1;33m]\u001b[0m\u001b[1;33m[\u001b[0m\u001b[1;36m0\u001b[0m\u001b[1;33m]\u001b[0m\u001b[1;33m\u001b[0m\u001b[1;33m\u001b[0m\u001b[0m\n\u001b[0m\u001b[0;32m      8\u001b[0m     \u001b[0mloc_index2\u001b[0m \u001b[1;33m=\u001b[0m \u001b[0mnp\u001b[0m\u001b[1;33m.\u001b[0m\u001b[0mwhere\u001b[0m\u001b[1;33m(\u001b[0m\u001b[0mX\u001b[0m\u001b[1;33m.\u001b[0m\u001b[0mcolumns\u001b[0m \u001b[1;33m==\u001b[0m \u001b[0mcrop_name\u001b[0m\u001b[1;33m)\u001b[0m\u001b[1;33m[\u001b[0m\u001b[1;36m0\u001b[0m\u001b[1;33m]\u001b[0m\u001b[1;33m[\u001b[0m\u001b[1;36m0\u001b[0m\u001b[1;33m]\u001b[0m\u001b[1;33m\u001b[0m\u001b[1;33m\u001b[0m\u001b[0m\n\u001b[0;32m      9\u001b[0m \u001b[1;33m\u001b[0m\u001b[0m\n",
      "\u001b[1;31mIndexError\u001b[0m: index 0 is out of bounds for axis 0 with size 0"
     ]
    }
   ],
   "source": [
    "predict_crop_price('Surat - Gujarat - (Western)','Banana',14,7)"
   ]
  },
  {
   "cell_type": "code",
   "execution_count": 58,
   "id": "5ad9bd91",
   "metadata": {
    "scrolled": true
   },
   "outputs": [
    {
     "data": {
      "text/plain": [
       "Index(['modal_rs_quintal', 'day', 'month',\n",
       "       'hyderabad - telangana - (southern)',\n",
       "       'idukki - kerala - (southern western)',\n",
       "       'kollam - kerala - (southern western)',\n",
       "       'ranga reddy - telangana - (southern)',\n",
       "       'sonipat - haryana - (northern)', 'surat - gujarat - (western)',\n",
       "       'wayanad - kerala - (southern western)', 'apple', 'arhar dal(tur dal)',\n",
       "       'banana', 'beans', 'black gram (urd beans)(whole)', 'coconut', 'coffee',\n",
       "       'cotton', 'grapes', 'jute', 'kabuli chana(chickpeas-white)',\n",
       "       'karbuja(musk melon)', 'lentil (masur)(whole)', 'maize', 'mango',\n",
       "       'orange', 'papaya', 'pomegranate', 'rice', 'water melon'],\n",
       "      dtype='object')"
      ]
     },
     "execution_count": 58,
     "metadata": {},
     "output_type": "execute_result"
    }
   ],
   "source": [
    "df7.columns"
   ]
  },
  {
   "cell_type": "code",
   "execution_count": null,
   "id": "9ed2be1a",
   "metadata": {},
   "outputs": [],
   "source": []
  },
  {
   "cell_type": "markdown",
   "id": "00a7e5af",
   "metadata": {},
   "source": [
    "# saving the model here"
   ]
  },
  {
   "cell_type": "code",
   "execution_count": 80,
   "id": "4d432a84",
   "metadata": {},
   "outputs": [],
   "source": [
    "import json\n",
    "columns={\n",
    "    'data_columns':[col.lower() for col in X.columns]\n",
    "}\n",
    "\n",
    "with open(\"columns_crops_price_new_1.json\",\"w\") as f:\n",
    "    f.write(json.dumps(columns))"
   ]
  },
  {
   "cell_type": "code",
   "execution_count": 81,
   "id": "6bb61f5d",
   "metadata": {},
   "outputs": [],
   "source": [
    "import pickle\n",
    "with open('rfc_model_crops_price_new_1.pickle','wb') as f:\n",
    "    pickle.dump(rfc_price,f)"
   ]
  },
  {
   "cell_type": "code",
   "execution_count": null,
   "id": "b84b2a49",
   "metadata": {},
   "outputs": [],
   "source": []
  },
  {
   "cell_type": "code",
   "execution_count": null,
   "id": "8f04776b",
   "metadata": {},
   "outputs": [],
   "source": []
  },
  {
   "cell_type": "code",
   "execution_count": null,
   "id": "cd3d4530",
   "metadata": {},
   "outputs": [],
   "source": []
  },
  {
   "cell_type": "code",
   "execution_count": null,
   "id": "19d21fb6",
   "metadata": {},
   "outputs": [],
   "source": []
  },
  {
   "cell_type": "code",
   "execution_count": null,
   "id": "0388a0ee",
   "metadata": {},
   "outputs": [],
   "source": []
  },
  {
   "cell_type": "code",
   "execution_count": 61,
   "id": "940a9319",
   "metadata": {},
   "outputs": [],
   "source": [
    "df7.to_csv(\"new_agri.csv\")"
   ]
  },
  {
   "cell_type": "code",
   "execution_count": 62,
   "id": "ccac80af",
   "metadata": {
    "scrolled": true
   },
   "outputs": [
    {
     "data": {
      "text/html": [
       "<div>\n",
       "<style scoped>\n",
       "    .dataframe tbody tr th:only-of-type {\n",
       "        vertical-align: middle;\n",
       "    }\n",
       "\n",
       "    .dataframe tbody tr th {\n",
       "        vertical-align: top;\n",
       "    }\n",
       "\n",
       "    .dataframe thead th {\n",
       "        text-align: right;\n",
       "    }\n",
       "</style>\n",
       "<table border=\"1\" class=\"dataframe\">\n",
       "  <thead>\n",
       "    <tr style=\"text-align: right;\">\n",
       "      <th></th>\n",
       "      <th>day</th>\n",
       "      <th>month</th>\n",
       "      <th>hyderabad - telangana - (southern)</th>\n",
       "      <th>idukki - kerala - (southern western)</th>\n",
       "      <th>kollam - kerala - (southern western)</th>\n",
       "      <th>ranga reddy - telangana - (southern)</th>\n",
       "      <th>sonipat - haryana - (northern)</th>\n",
       "      <th>surat - gujarat - (western)</th>\n",
       "      <th>wayanad - kerala - (southern western)</th>\n",
       "      <th>apple</th>\n",
       "      <th>...</th>\n",
       "      <th>kabuli chana(chickpeas-white)</th>\n",
       "      <th>karbuja(musk melon)</th>\n",
       "      <th>lentil (masur)(whole)</th>\n",
       "      <th>maize</th>\n",
       "      <th>mango</th>\n",
       "      <th>orange</th>\n",
       "      <th>papaya</th>\n",
       "      <th>pomegranate</th>\n",
       "      <th>rice</th>\n",
       "      <th>water melon</th>\n",
       "    </tr>\n",
       "  </thead>\n",
       "  <tbody>\n",
       "    <tr>\n",
       "      <th>1679</th>\n",
       "      <td>14</td>\n",
       "      <td>7</td>\n",
       "      <td>0</td>\n",
       "      <td>0</td>\n",
       "      <td>1</td>\n",
       "      <td>0</td>\n",
       "      <td>0</td>\n",
       "      <td>0</td>\n",
       "      <td>0</td>\n",
       "      <td>0</td>\n",
       "      <td>...</td>\n",
       "      <td>0</td>\n",
       "      <td>0</td>\n",
       "      <td>0</td>\n",
       "      <td>0</td>\n",
       "      <td>0</td>\n",
       "      <td>0</td>\n",
       "      <td>0</td>\n",
       "      <td>0</td>\n",
       "      <td>0</td>\n",
       "      <td>0</td>\n",
       "    </tr>\n",
       "    <tr>\n",
       "      <th>283</th>\n",
       "      <td>13</td>\n",
       "      <td>7</td>\n",
       "      <td>0</td>\n",
       "      <td>0</td>\n",
       "      <td>0</td>\n",
       "      <td>1</td>\n",
       "      <td>0</td>\n",
       "      <td>0</td>\n",
       "      <td>0</td>\n",
       "      <td>0</td>\n",
       "      <td>...</td>\n",
       "      <td>0</td>\n",
       "      <td>0</td>\n",
       "      <td>0</td>\n",
       "      <td>0</td>\n",
       "      <td>0</td>\n",
       "      <td>1</td>\n",
       "      <td>0</td>\n",
       "      <td>0</td>\n",
       "      <td>0</td>\n",
       "      <td>0</td>\n",
       "    </tr>\n",
       "    <tr>\n",
       "      <th>498</th>\n",
       "      <td>13</td>\n",
       "      <td>7</td>\n",
       "      <td>1</td>\n",
       "      <td>0</td>\n",
       "      <td>0</td>\n",
       "      <td>0</td>\n",
       "      <td>0</td>\n",
       "      <td>0</td>\n",
       "      <td>0</td>\n",
       "      <td>0</td>\n",
       "      <td>...</td>\n",
       "      <td>0</td>\n",
       "      <td>0</td>\n",
       "      <td>0</td>\n",
       "      <td>0</td>\n",
       "      <td>0</td>\n",
       "      <td>0</td>\n",
       "      <td>0</td>\n",
       "      <td>0</td>\n",
       "      <td>0</td>\n",
       "      <td>0</td>\n",
       "    </tr>\n",
       "    <tr>\n",
       "      <th>2972</th>\n",
       "      <td>14</td>\n",
       "      <td>7</td>\n",
       "      <td>0</td>\n",
       "      <td>0</td>\n",
       "      <td>0</td>\n",
       "      <td>0</td>\n",
       "      <td>0</td>\n",
       "      <td>1</td>\n",
       "      <td>0</td>\n",
       "      <td>0</td>\n",
       "      <td>...</td>\n",
       "      <td>0</td>\n",
       "      <td>0</td>\n",
       "      <td>0</td>\n",
       "      <td>1</td>\n",
       "      <td>0</td>\n",
       "      <td>0</td>\n",
       "      <td>0</td>\n",
       "      <td>0</td>\n",
       "      <td>0</td>\n",
       "      <td>0</td>\n",
       "    </tr>\n",
       "    <tr>\n",
       "      <th>2510</th>\n",
       "      <td>14</td>\n",
       "      <td>7</td>\n",
       "      <td>0</td>\n",
       "      <td>0</td>\n",
       "      <td>0</td>\n",
       "      <td>0</td>\n",
       "      <td>0</td>\n",
       "      <td>1</td>\n",
       "      <td>0</td>\n",
       "      <td>0</td>\n",
       "      <td>...</td>\n",
       "      <td>0</td>\n",
       "      <td>0</td>\n",
       "      <td>0</td>\n",
       "      <td>0</td>\n",
       "      <td>0</td>\n",
       "      <td>0</td>\n",
       "      <td>1</td>\n",
       "      <td>0</td>\n",
       "      <td>0</td>\n",
       "      <td>0</td>\n",
       "    </tr>\n",
       "  </tbody>\n",
       "</table>\n",
       "<p>5 rows × 29 columns</p>\n",
       "</div>"
      ],
      "text/plain": [
       "      day  month  hyderabad - telangana - (southern)  \\\n",
       "1679   14      7                                   0   \n",
       "283    13      7                                   0   \n",
       "498    13      7                                   1   \n",
       "2972   14      7                                   0   \n",
       "2510   14      7                                   0   \n",
       "\n",
       "      idukki - kerala - (southern western)  \\\n",
       "1679                                     0   \n",
       "283                                      0   \n",
       "498                                      0   \n",
       "2972                                     0   \n",
       "2510                                     0   \n",
       "\n",
       "      kollam - kerala - (southern western)  \\\n",
       "1679                                     1   \n",
       "283                                      0   \n",
       "498                                      0   \n",
       "2972                                     0   \n",
       "2510                                     0   \n",
       "\n",
       "      ranga reddy - telangana - (southern)  sonipat - haryana - (northern)  \\\n",
       "1679                                     0                               0   \n",
       "283                                      1                               0   \n",
       "498                                      0                               0   \n",
       "2972                                     0                               0   \n",
       "2510                                     0                               0   \n",
       "\n",
       "      surat - gujarat - (western)  wayanad - kerala - (southern western)  \\\n",
       "1679                            0                                      0   \n",
       "283                             0                                      0   \n",
       "498                             0                                      0   \n",
       "2972                            1                                      0   \n",
       "2510                            1                                      0   \n",
       "\n",
       "      apple  ...  kabuli chana(chickpeas-white)  karbuja(musk melon)  \\\n",
       "1679      0  ...                              0                    0   \n",
       "283       0  ...                              0                    0   \n",
       "498       0  ...                              0                    0   \n",
       "2972      0  ...                              0                    0   \n",
       "2510      0  ...                              0                    0   \n",
       "\n",
       "      lentil (masur)(whole)  maize  mango  orange  papaya  pomegranate  rice  \\\n",
       "1679                      0      0      0       0       0            0     0   \n",
       "283                       0      0      0       1       0            0     0   \n",
       "498                       0      0      0       0       0            0     0   \n",
       "2972                      0      1      0       0       0            0     0   \n",
       "2510                      0      0      0       0       1            0     0   \n",
       "\n",
       "      water melon  \n",
       "1679            0  \n",
       "283             0  \n",
       "498             0  \n",
       "2972            0  \n",
       "2510            0  \n",
       "\n",
       "[5 rows x 29 columns]"
      ]
     },
     "execution_count": 62,
     "metadata": {},
     "output_type": "execute_result"
    }
   ],
   "source": [
    "X_test.head()"
   ]
  },
  {
   "cell_type": "code",
   "execution_count": null,
   "id": "695c35cd",
   "metadata": {},
   "outputs": [],
   "source": []
  },
  {
   "cell_type": "code",
   "execution_count": null,
   "id": "dcc0b3b7",
   "metadata": {},
   "outputs": [],
   "source": []
  },
  {
   "cell_type": "code",
   "execution_count": 63,
   "id": "088fdb4a",
   "metadata": {},
   "outputs": [],
   "source": [
    "from sklearn.model_selection import train_test_split\n",
    "X_train,X_test,y_train,y_test=train_test_split(X,y,test_size=0.2,random_state=10)"
   ]
  },
  {
   "cell_type": "code",
   "execution_count": 64,
   "id": "501eb99a",
   "metadata": {
    "scrolled": false
   },
   "outputs": [
    {
     "data": {
      "text/plain": [
       "0.9926075991912402"
      ]
     },
     "execution_count": 64,
     "metadata": {},
     "output_type": "execute_result"
    }
   ],
   "source": [
    "from sklearn.linear_model import LinearRegression\n",
    "lr_clf=LinearRegression()\n",
    "lr_clf.fit(X_train,y_train)\n",
    "lr_clf.score(X_test,y_test)"
   ]
  },
  {
   "cell_type": "code",
   "execution_count": 65,
   "id": "14bf2f67",
   "metadata": {},
   "outputs": [
    {
     "data": {
      "text/plain": [
       "array([2406., 2796., 5564., 2703., 5575., 2404., 2705., 2396., 2795.,\n",
       "       2394., 5934., 2406., 2417., 2097., 2100., 2418., 2715., 2386.,\n",
       "       2509., 5308., 2113., 2098., 2810., 2485., 2745., 2703., 2098.,\n",
       "       2796., 2445., 2099., 2497., 2405., 5574., 2703., 2406., 2097.,\n",
       "       2716., 2704., 2436., 2704.])"
      ]
     },
     "execution_count": 65,
     "metadata": {},
     "output_type": "execute_result"
    }
   ],
   "source": [
    "lr_clf.predict(X_test)"
   ]
  },
  {
   "cell_type": "code",
   "execution_count": 66,
   "id": "20e47318",
   "metadata": {},
   "outputs": [
    {
     "data": {
      "text/plain": [
       "1027    2300\n",
       "153     2800\n",
       "392     5750\n",
       "3408    2800\n",
       "988     5750\n",
       "363     2300\n",
       "2976    2800\n",
       "991     2300\n",
       "1237    2800\n",
       "98      2300\n",
       "1730    5750\n",
       "194     2300\n",
       "1243    2300\n",
       "2770    2100\n",
       "2326    2100\n",
       "1043    2300\n",
       "1741    2800\n",
       "1342    2300\n",
       "1743    2500\n",
       "3221    5300\n",
       "2968    2100\n",
       "2512    2100\n",
       "1041    2800\n",
       "1539    2500\n",
       "1734    2800\n",
       "2095    2800\n",
       "2548    2100\n",
       "97      2800\n",
       "923     2300\n",
       "3196    2100\n",
       "2973    2500\n",
       "719     2300\n",
       "1340    5750\n",
       "1543    2800\n",
       "603     2300\n",
       "3214    2100\n",
       "2329    2800\n",
       "3133    2800\n",
       "922     2300\n",
       "3198    2800\n",
       "Name: modal_rs_quintal, dtype: int64"
      ]
     },
     "execution_count": 66,
     "metadata": {},
     "output_type": "execute_result"
    }
   ],
   "source": [
    "y_test"
   ]
  },
  {
   "cell_type": "code",
   "execution_count": 73,
   "id": "fb88a4f6",
   "metadata": {},
   "outputs": [],
   "source": [
    "def predict_crop_price2(region,crop_name,arrival_tonnes,day,month):\n",
    "    \n",
    "    # Initialize x array with zeros of length equal to number of columns in X\n",
    "    x = np.zeros(len(X.columns))\n",
    "    \n",
    "    # Find the index of Cardiac_CT and Previous_illnesses in the X.columns array\n",
    "    loc_index1 = np.where(X.columns == region)[0][0]\n",
    "    loc_index2 = np.where(X.columns == crop_name)[0][0]\n",
    "    \n",
    "    # Set the corresponding feature values in the x array\n",
    "    x[0] = day\n",
    "    x[1] = month\n",
    "    \n",
    "    # Set the values of the Cardiac_CT and Previous_illnesses features to 1\n",
    "    if loc_index1>0:\n",
    "        x[loc_index1]=1\n",
    "    if loc_index2>0:\n",
    "        x[loc_index2]=1\n",
    "    \n",
    "    # Use the trained random forest classifier model to predict the diagnosis\n",
    "    modal_price2 = round(lr_clf.predict([x])[0],2)\n",
    "    \n",
    "    return modal_price2"
   ]
  },
  {
   "cell_type": "code",
   "execution_count": 75,
   "id": "b8aec9d6",
   "metadata": {},
   "outputs": [
    {
     "ename": "TypeError",
     "evalue": "predict_crop_price2() missing 1 required positional argument: 'month'",
     "output_type": "error",
     "traceback": [
      "\u001b[1;31m---------------------------------------------------------------------------\u001b[0m",
      "\u001b[1;31mTypeError\u001b[0m                                 Traceback (most recent call last)",
      "\u001b[1;32m~\\AppData\\Local\\Temp/ipykernel_23732/3533534132.py\u001b[0m in \u001b[0;36m<module>\u001b[1;34m\u001b[0m\n\u001b[1;32m----> 1\u001b[1;33m \u001b[0mpredict_crop_price2\u001b[0m\u001b[1;33m(\u001b[0m\u001b[1;34m'idukki - kerala - (southern western)'\u001b[0m\u001b[1;33m,\u001b[0m\u001b[1;34m'apple'\u001b[0m\u001b[1;33m,\u001b[0m\u001b[1;36m14\u001b[0m\u001b[1;33m,\u001b[0m\u001b[1;36m7\u001b[0m\u001b[1;33m)\u001b[0m\u001b[1;33m\u001b[0m\u001b[1;33m\u001b[0m\u001b[0m\n\u001b[0m",
      "\u001b[1;31mTypeError\u001b[0m: predict_crop_price2() missing 1 required positional argument: 'month'"
     ]
    }
   ],
   "source": [
    "predict_crop_price2('idukki - kerala - (southern western)','apple',14,7)"
   ]
  },
  {
   "cell_type": "code",
   "execution_count": null,
   "id": "ec46c9cf",
   "metadata": {},
   "outputs": [],
   "source": []
  },
  {
   "cell_type": "code",
   "execution_count": null,
   "id": "c37c1070",
   "metadata": {},
   "outputs": [],
   "source": []
  },
  {
   "cell_type": "code",
   "execution_count": 88,
   "id": "54773e3e",
   "metadata": {},
   "outputs": [
    {
     "data": {
      "text/plain": [
       "array([0.99991562, 0.99982498, 0.9996096 , 0.99977717, 0.99971779])"
      ]
     },
     "execution_count": 88,
     "metadata": {},
     "output_type": "execute_result"
    }
   ],
   "source": [
    "from sklearn.model_selection import ShuffleSplit\n",
    "from sklearn.model_selection import cross_val_score\n",
    "\n",
    "cv=ShuffleSplit(n_splits=5,test_size=0.2,random_state=0)\n",
    "cross_val_score(LinearRegression(),X,y,cv=cv)"
   ]
  },
  {
   "cell_type": "code",
   "execution_count": 89,
   "id": "b731c9cf",
   "metadata": {
    "scrolled": false
   },
   "outputs": [
    {
     "name": "stderr",
     "output_type": "stream",
     "text": [
      "c:\\users\\paltu\\appdata\\local\\programs\\python\\python37\\lib\\site-packages\\sklearn\\linear_model\\_base.py:145: FutureWarning: 'normalize' was deprecated in version 1.0 and will be removed in 1.2.\n",
      "If you wish to scale the data, use Pipeline with a StandardScaler in a preprocessing stage. To reproduce the previous behavior:\n",
      "\n",
      "from sklearn.pipeline import make_pipeline\n",
      "\n",
      "model = make_pipeline(StandardScaler(with_mean=False), LinearRegression())\n",
      "\n",
      "If you wish to pass a sample_weight parameter, you need to pass it as a fit parameter to each step of the pipeline as follows:\n",
      "\n",
      "kwargs = {s[0] + '__sample_weight': sample_weight for s in model.steps}\n",
      "model.fit(X, y, **kwargs)\n",
      "\n",
      "\n",
      "  FutureWarning,\n",
      "c:\\users\\paltu\\appdata\\local\\programs\\python\\python37\\lib\\site-packages\\sklearn\\linear_model\\_base.py:145: FutureWarning: 'normalize' was deprecated in version 1.0 and will be removed in 1.2.\n",
      "If you wish to scale the data, use Pipeline with a StandardScaler in a preprocessing stage. To reproduce the previous behavior:\n",
      "\n",
      "from sklearn.pipeline import make_pipeline\n",
      "\n",
      "model = make_pipeline(StandardScaler(with_mean=False), LinearRegression())\n",
      "\n",
      "If you wish to pass a sample_weight parameter, you need to pass it as a fit parameter to each step of the pipeline as follows:\n",
      "\n",
      "kwargs = {s[0] + '__sample_weight': sample_weight for s in model.steps}\n",
      "model.fit(X, y, **kwargs)\n",
      "\n",
      "\n",
      "  FutureWarning,\n",
      "c:\\users\\paltu\\appdata\\local\\programs\\python\\python37\\lib\\site-packages\\sklearn\\linear_model\\_base.py:145: FutureWarning: 'normalize' was deprecated in version 1.0 and will be removed in 1.2.\n",
      "If you wish to scale the data, use Pipeline with a StandardScaler in a preprocessing stage. To reproduce the previous behavior:\n",
      "\n",
      "from sklearn.pipeline import make_pipeline\n",
      "\n",
      "model = make_pipeline(StandardScaler(with_mean=False), LinearRegression())\n",
      "\n",
      "If you wish to pass a sample_weight parameter, you need to pass it as a fit parameter to each step of the pipeline as follows:\n",
      "\n",
      "kwargs = {s[0] + '__sample_weight': sample_weight for s in model.steps}\n",
      "model.fit(X, y, **kwargs)\n",
      "\n",
      "\n",
      "  FutureWarning,\n",
      "c:\\users\\paltu\\appdata\\local\\programs\\python\\python37\\lib\\site-packages\\sklearn\\linear_model\\_base.py:145: FutureWarning: 'normalize' was deprecated in version 1.0 and will be removed in 1.2.\n",
      "If you wish to scale the data, use Pipeline with a StandardScaler in a preprocessing stage. To reproduce the previous behavior:\n",
      "\n",
      "from sklearn.pipeline import make_pipeline\n",
      "\n",
      "model = make_pipeline(StandardScaler(with_mean=False), LinearRegression())\n",
      "\n",
      "If you wish to pass a sample_weight parameter, you need to pass it as a fit parameter to each step of the pipeline as follows:\n",
      "\n",
      "kwargs = {s[0] + '__sample_weight': sample_weight for s in model.steps}\n",
      "model.fit(X, y, **kwargs)\n",
      "\n",
      "\n",
      "  FutureWarning,\n",
      "c:\\users\\paltu\\appdata\\local\\programs\\python\\python37\\lib\\site-packages\\sklearn\\linear_model\\_base.py:145: FutureWarning: 'normalize' was deprecated in version 1.0 and will be removed in 1.2.\n",
      "If you wish to scale the data, use Pipeline with a StandardScaler in a preprocessing stage. To reproduce the previous behavior:\n",
      "\n",
      "from sklearn.pipeline import make_pipeline\n",
      "\n",
      "model = make_pipeline(StandardScaler(with_mean=False), LinearRegression())\n",
      "\n",
      "If you wish to pass a sample_weight parameter, you need to pass it as a fit parameter to each step of the pipeline as follows:\n",
      "\n",
      "kwargs = {s[0] + '__sample_weight': sample_weight for s in model.steps}\n",
      "model.fit(X, y, **kwargs)\n",
      "\n",
      "\n",
      "  FutureWarning,\n",
      "c:\\users\\paltu\\appdata\\local\\programs\\python\\python37\\lib\\site-packages\\sklearn\\linear_model\\_base.py:155: FutureWarning: 'normalize' was deprecated in version 1.0 and will be removed in 1.2. Please leave the normalize parameter to its default value to silence this warning. The default behavior of this estimator is to not do any normalization. If normalization is needed please use sklearn.preprocessing.StandardScaler instead.\n",
      "  FutureWarning,\n",
      "c:\\users\\paltu\\appdata\\local\\programs\\python\\python37\\lib\\site-packages\\sklearn\\linear_model\\_base.py:155: FutureWarning: 'normalize' was deprecated in version 1.0 and will be removed in 1.2. Please leave the normalize parameter to its default value to silence this warning. The default behavior of this estimator is to not do any normalization. If normalization is needed please use sklearn.preprocessing.StandardScaler instead.\n",
      "  FutureWarning,\n",
      "c:\\users\\paltu\\appdata\\local\\programs\\python\\python37\\lib\\site-packages\\sklearn\\linear_model\\_base.py:155: FutureWarning: 'normalize' was deprecated in version 1.0 and will be removed in 1.2. Please leave the normalize parameter to its default value to silence this warning. The default behavior of this estimator is to not do any normalization. If normalization is needed please use sklearn.preprocessing.StandardScaler instead.\n",
      "  FutureWarning,\n",
      "c:\\users\\paltu\\appdata\\local\\programs\\python\\python37\\lib\\site-packages\\sklearn\\linear_model\\_base.py:155: FutureWarning: 'normalize' was deprecated in version 1.0 and will be removed in 1.2. Please leave the normalize parameter to its default value to silence this warning. The default behavior of this estimator is to not do any normalization. If normalization is needed please use sklearn.preprocessing.StandardScaler instead.\n",
      "  FutureWarning,\n",
      "c:\\users\\paltu\\appdata\\local\\programs\\python\\python37\\lib\\site-packages\\sklearn\\linear_model\\_base.py:155: FutureWarning: 'normalize' was deprecated in version 1.0 and will be removed in 1.2. Please leave the normalize parameter to its default value to silence this warning. The default behavior of this estimator is to not do any normalization. If normalization is needed please use sklearn.preprocessing.StandardScaler instead.\n",
      "  FutureWarning,\n",
      "c:\\users\\paltu\\appdata\\local\\programs\\python\\python37\\lib\\site-packages\\sklearn\\linear_model\\_base.py:145: FutureWarning: 'normalize' was deprecated in version 1.0 and will be removed in 1.2.\n",
      "If you wish to scale the data, use Pipeline with a StandardScaler in a preprocessing stage. To reproduce the previous behavior:\n",
      "\n",
      "from sklearn.pipeline import make_pipeline\n",
      "\n",
      "model = make_pipeline(StandardScaler(with_mean=False), LinearRegression())\n",
      "\n",
      "If you wish to pass a sample_weight parameter, you need to pass it as a fit parameter to each step of the pipeline as follows:\n",
      "\n",
      "kwargs = {s[0] + '__sample_weight': sample_weight for s in model.steps}\n",
      "model.fit(X, y, **kwargs)\n",
      "\n",
      "\n",
      "  FutureWarning,\n",
      "c:\\users\\paltu\\appdata\\local\\programs\\python\\python37\\lib\\site-packages\\sklearn\\tree\\_classes.py:363: FutureWarning: Criterion 'mse' was deprecated in v1.0 and will be removed in version 1.2. Use `criterion='squared_error'` which is equivalent.\n",
      "  FutureWarning,\n",
      "c:\\users\\paltu\\appdata\\local\\programs\\python\\python37\\lib\\site-packages\\sklearn\\tree\\_classes.py:363: FutureWarning: Criterion 'mse' was deprecated in v1.0 and will be removed in version 1.2. Use `criterion='squared_error'` which is equivalent.\n",
      "  FutureWarning,\n",
      "c:\\users\\paltu\\appdata\\local\\programs\\python\\python37\\lib\\site-packages\\sklearn\\tree\\_classes.py:363: FutureWarning: Criterion 'mse' was deprecated in v1.0 and will be removed in version 1.2. Use `criterion='squared_error'` which is equivalent.\n",
      "  FutureWarning,\n",
      "c:\\users\\paltu\\appdata\\local\\programs\\python\\python37\\lib\\site-packages\\sklearn\\tree\\_classes.py:363: FutureWarning: Criterion 'mse' was deprecated in v1.0 and will be removed in version 1.2. Use `criterion='squared_error'` which is equivalent.\n",
      "  FutureWarning,\n",
      "c:\\users\\paltu\\appdata\\local\\programs\\python\\python37\\lib\\site-packages\\sklearn\\tree\\_classes.py:363: FutureWarning: Criterion 'mse' was deprecated in v1.0 and will be removed in version 1.2. Use `criterion='squared_error'` which is equivalent.\n",
      "  FutureWarning,\n",
      "c:\\users\\paltu\\appdata\\local\\programs\\python\\python37\\lib\\site-packages\\sklearn\\tree\\_classes.py:363: FutureWarning: Criterion 'mse' was deprecated in v1.0 and will be removed in version 1.2. Use `criterion='squared_error'` which is equivalent.\n",
      "  FutureWarning,\n",
      "c:\\users\\paltu\\appdata\\local\\programs\\python\\python37\\lib\\site-packages\\sklearn\\tree\\_classes.py:363: FutureWarning: Criterion 'mse' was deprecated in v1.0 and will be removed in version 1.2. Use `criterion='squared_error'` which is equivalent.\n",
      "  FutureWarning,\n",
      "c:\\users\\paltu\\appdata\\local\\programs\\python\\python37\\lib\\site-packages\\sklearn\\tree\\_classes.py:363: FutureWarning: Criterion 'mse' was deprecated in v1.0 and will be removed in version 1.2. Use `criterion='squared_error'` which is equivalent.\n",
      "  FutureWarning,\n",
      "c:\\users\\paltu\\appdata\\local\\programs\\python\\python37\\lib\\site-packages\\sklearn\\tree\\_classes.py:363: FutureWarning: Criterion 'mse' was deprecated in v1.0 and will be removed in version 1.2. Use `criterion='squared_error'` which is equivalent.\n",
      "  FutureWarning,\n",
      "c:\\users\\paltu\\appdata\\local\\programs\\python\\python37\\lib\\site-packages\\sklearn\\tree\\_classes.py:363: FutureWarning: Criterion 'mse' was deprecated in v1.0 and will be removed in version 1.2. Use `criterion='squared_error'` which is equivalent.\n",
      "  FutureWarning,\n",
      "c:\\users\\paltu\\appdata\\local\\programs\\python\\python37\\lib\\site-packages\\sklearn\\tree\\_classes.py:363: FutureWarning: Criterion 'mse' was deprecated in v1.0 and will be removed in version 1.2. Use `criterion='squared_error'` which is equivalent.\n",
      "  FutureWarning,\n"
     ]
    },
    {
     "data": {
      "text/html": [
       "<div>\n",
       "<style scoped>\n",
       "    .dataframe tbody tr th:only-of-type {\n",
       "        vertical-align: middle;\n",
       "    }\n",
       "\n",
       "    .dataframe tbody tr th {\n",
       "        vertical-align: top;\n",
       "    }\n",
       "\n",
       "    .dataframe thead th {\n",
       "        text-align: right;\n",
       "    }\n",
       "</style>\n",
       "<table border=\"1\" class=\"dataframe\">\n",
       "  <thead>\n",
       "    <tr style=\"text-align: right;\">\n",
       "      <th></th>\n",
       "      <th>model</th>\n",
       "      <th>best_score</th>\n",
       "      <th>best_params</th>\n",
       "    </tr>\n",
       "  </thead>\n",
       "  <tbody>\n",
       "    <tr>\n",
       "      <th>0</th>\n",
       "      <td>linear_regression</td>\n",
       "      <td>0.999771</td>\n",
       "      <td>{'normalize': True}</td>\n",
       "    </tr>\n",
       "    <tr>\n",
       "      <th>1</th>\n",
       "      <td>lasso</td>\n",
       "      <td>0.995040</td>\n",
       "      <td>{'alpha': 1, 'selection': 'cyclic'}</td>\n",
       "    </tr>\n",
       "    <tr>\n",
       "      <th>2</th>\n",
       "      <td>decision_tree</td>\n",
       "      <td>1.000000</td>\n",
       "      <td>{'criterion': 'mse', 'splitter': 'best'}</td>\n",
       "    </tr>\n",
       "  </tbody>\n",
       "</table>\n",
       "</div>"
      ],
      "text/plain": [
       "               model  best_score                               best_params\n",
       "0  linear_regression    0.999771                       {'normalize': True}\n",
       "1              lasso    0.995040       {'alpha': 1, 'selection': 'cyclic'}\n",
       "2      decision_tree    1.000000  {'criterion': 'mse', 'splitter': 'best'}"
      ]
     },
     "execution_count": 89,
     "metadata": {},
     "output_type": "execute_result"
    }
   ],
   "source": [
    "from sklearn.model_selection import GridSearchCV\n",
    "\n",
    "from sklearn.linear_model import Lasso\n",
    "from sklearn.tree import DecisionTreeRegressor\n",
    "\n",
    "def find_best_model_using_gridsearchcv(X,y):\n",
    "    algos = {\n",
    "        'linear_regression' : {\n",
    "            'model': LinearRegression(),\n",
    "            'params': {\n",
    "                'normalize': [True, False]\n",
    "            }\n",
    "        },\n",
    "        'lasso': {\n",
    "            'model': Lasso(),\n",
    "            'params': {\n",
    "                'alpha': [1,2],\n",
    "                'selection': ['random', 'cyclic']\n",
    "            }\n",
    "        },\n",
    "        'decision_tree': {\n",
    "            'model': DecisionTreeRegressor(),\n",
    "            'params': {\n",
    "                'criterion' : ['mse','friedman_mse'],\n",
    "                'splitter': ['best','random']\n",
    "            }\n",
    "        }\n",
    "    }\n",
    "    scores = []\n",
    "    cv = ShuffleSplit(n_splits=5, test_size=0.2, random_state=0)\n",
    "    for algo_name, config in algos.items():\n",
    "        gs =  GridSearchCV(config['model'], config['params'], cv=cv, return_train_score=False)\n",
    "        gs.fit(X,y)\n",
    "        scores.append({\n",
    "            'model': algo_name,\n",
    "            'best_score': gs.best_score_,\n",
    "            'best_params': gs.best_params_\n",
    "        })\n",
    "\n",
    "    return pd.DataFrame(scores,columns=['model','best_score','best_params'])\n",
    "\n",
    "find_best_model_using_gridsearchcv(X,y)"
   ]
  },
  {
   "cell_type": "code",
   "execution_count": 66,
   "id": "a4395e55",
   "metadata": {},
   "outputs": [
    {
     "data": {
      "text/plain": [
       "DecisionTreeClassifier(criterion='entropy')"
      ]
     },
     "execution_count": 66,
     "metadata": {},
     "output_type": "execute_result"
    }
   ],
   "source": [
    "from sklearn import tree\n",
    "model=tree.DecisionTreeClassifier(criterion='entropy', splitter= 'best')\n",
    "model.fit(X_train, y_train)"
   ]
  },
  {
   "cell_type": "code",
   "execution_count": 71,
   "id": "23897488",
   "metadata": {
    "scrolled": true
   },
   "outputs": [
    {
     "data": {
      "text/plain": [
       "array([2300, 2800, 5750, 2800, 5750, 2300, 2800, 2300, 2800, 2300, 5750,\n",
       "       2300, 2300, 2100, 2100, 2300, 2800, 2300, 2500, 5300, 2100, 2100,\n",
       "       2800, 2500, 2800, 2800, 2100, 2800, 2300, 2100, 2500, 2300, 5750,\n",
       "       2800, 2300, 2100, 2800, 2800, 2300, 2800], dtype=int64)"
      ]
     },
     "execution_count": 71,
     "metadata": {},
     "output_type": "execute_result"
    }
   ],
   "source": [
    "model.predict(X_test)"
   ]
  },
  {
   "cell_type": "code",
   "execution_count": 72,
   "id": "22f16db2",
   "metadata": {
    "scrolled": true
   },
   "outputs": [
    {
     "data": {
      "text/plain": [
       "1027    2300\n",
       "153     2800\n",
       "392     5750\n",
       "3408    2800\n",
       "988     5750\n",
       "363     2300\n",
       "2976    2800\n",
       "991     2300\n",
       "1237    2800\n",
       "98      2300\n",
       "1730    5750\n",
       "194     2300\n",
       "1243    2300\n",
       "2770    2100\n",
       "2326    2100\n",
       "1043    2300\n",
       "1741    2800\n",
       "1342    2300\n",
       "1743    2500\n",
       "3221    5300\n",
       "2968    2100\n",
       "2512    2100\n",
       "1041    2800\n",
       "1539    2500\n",
       "1734    2800\n",
       "2095    2800\n",
       "2548    2100\n",
       "97      2800\n",
       "923     2300\n",
       "3196    2100\n",
       "2973    2500\n",
       "719     2300\n",
       "1340    5750\n",
       "1543    2800\n",
       "603     2300\n",
       "3214    2100\n",
       "2329    2800\n",
       "3133    2800\n",
       "922     2300\n",
       "3198    2800\n",
       "Name: modal_rs_quintal, dtype: int64"
      ]
     },
     "execution_count": 72,
     "metadata": {},
     "output_type": "execute_result"
    }
   ],
   "source": [
    "y_test"
   ]
  },
  {
   "cell_type": "code",
   "execution_count": 73,
   "id": "6936d13d",
   "metadata": {},
   "outputs": [],
   "source": [
    "def predict_crop_price3(region,crop_name,arrival_tonnes,day,month):\n",
    "    \n",
    "    # Initialize x array with zeros of length equal to number of columns in X\n",
    "    x = np.zeros(len(X.columns))\n",
    "    \n",
    "    # Find the index of Cardiac_CT and Previous_illnesses in the X.columns array\n",
    "    loc_index1 = np.where(X.columns == region)[0][0]\n",
    "    loc_index2 = np.where(X.columns == crop_name)[0][0]\n",
    "    \n",
    "    # Set the corresponding feature values in the x array\n",
    "    x[2] = arrival_tonnes\n",
    "    x[3] = day\n",
    "    x[4] = month\n",
    "    \n",
    "    # Set the values of the Cardiac_CT and Previous_illnesses features to 1\n",
    "    if loc_index1>0:\n",
    "        x[loc_index1]=1\n",
    "    if loc_index2>0:\n",
    "        x[loc_index2]=1\n",
    "    \n",
    "    # Use the trained random forest classifier model to predict the diagnosis\n",
    "    modal_price = model.predict([x])[0]\n",
    "    \n",
    "    return modal_price"
   ]
  },
  {
   "cell_type": "code",
   "execution_count": 74,
   "id": "6b81ca19",
   "metadata": {},
   "outputs": [
    {
     "name": "stderr",
     "output_type": "stream",
     "text": [
      "c:\\users\\paltu\\appdata\\local\\programs\\python\\python37\\lib\\site-packages\\sklearn\\base.py:451: UserWarning: X does not have valid feature names, but RandomForestClassifier was fitted with feature names\n",
      "  \"X does not have valid feature names, but\"\n"
     ]
    },
    {
     "data": {
      "text/plain": [
       "2300"
      ]
     },
     "execution_count": 74,
     "metadata": {},
     "output_type": "execute_result"
    }
   ],
   "source": [
    "predict_crop_price('Ranga Reddy - Telangana - (Southern)','Orange',3,5,7)"
   ]
  },
  {
   "cell_type": "code",
   "execution_count": 78,
   "id": "de5f78fb",
   "metadata": {},
   "outputs": [
    {
     "name": "stderr",
     "output_type": "stream",
     "text": [
      "c:\\users\\paltu\\appdata\\local\\programs\\python\\python37\\lib\\site-packages\\sklearn\\base.py:451: UserWarning: X does not have valid feature names, but RandomForestClassifier was fitted with feature names\n",
      "  \"X does not have valid feature names, but\"\n"
     ]
    },
    {
     "data": {
      "text/plain": [
       "2300"
      ]
     },
     "execution_count": 78,
     "metadata": {},
     "output_type": "execute_result"
    }
   ],
   "source": [
    "predict_crop_price('Idukki - Kerala - (Southern Western)','Orange',3,5,7)"
   ]
  },
  {
   "cell_type": "code",
   "execution_count": 75,
   "id": "40e37f1d",
   "metadata": {},
   "outputs": [
    {
     "data": {
      "text/plain": [
       "Index(['arrival_tonnes', 'modal_rs_quintal', 'day', 'month',\n",
       "       'Hyderabad - Telangana - (Southern)',\n",
       "       'Idukki - Kerala - (Southern Western)',\n",
       "       'Kollam - Kerala - (Southern Western)',\n",
       "       'Ranga Reddy - Telangana - (Southern)',\n",
       "       'Sonipat - Haryana - (Northern)', 'Surat - Gujarat - (Western)',\n",
       "       'Wayanad - Kerala - (Southern Western)', 'Apple', 'Arhar Dal(Tur Dal)',\n",
       "       'Banana', 'Beans', 'Black Gram (Urd Beans)(Whole)', 'Coconut', 'Coffee',\n",
       "       'Cotton', 'Grapes', 'Jute', 'Kabuli Chana(Chickpeas-White)',\n",
       "       'Karbuja(Musk Melon)', 'Lentil (Masur)(Whole)', 'Maize', 'Mango',\n",
       "       'Orange', 'Papaya', 'Pomegranate', 'Rice', 'Water Melon'],\n",
       "      dtype='object')"
      ]
     },
     "execution_count": 75,
     "metadata": {},
     "output_type": "execute_result"
    }
   ],
   "source": [
    "df7.columns"
   ]
  },
  {
   "cell_type": "code",
   "execution_count": 65,
   "id": "c0d2c813",
   "metadata": {},
   "outputs": [
    {
     "data": {
      "text/plain": [
       "1679    5300\n",
       "283     2300\n",
       "498     2300\n",
       "2972    5750\n",
       "2510    5750\n",
       "1747    2800\n",
       "1237    2800\n",
       "3194    5750\n",
       "3198    2800\n",
       "921     2800\n",
       "1082    2300\n",
       "3218    5750\n",
       "3129    2500\n",
       "1342    2300\n",
       "3222    2800\n",
       "3213    2500\n",
       "1024    5750\n",
       "2966    5750\n",
       "1492    2100\n",
       "1236    5750\n",
       "2326    2100\n",
       "360     5750\n",
       "2830    2100\n",
       "1677    2500\n",
       "1081    2800\n",
       "1040    5750\n",
       "1494    2800\n",
       "1083    2300\n",
       "2327    5300\n",
       "2514    2800\n",
       "193     2800\n",
       "362     2300\n",
       "991     2300\n",
       "1243    2300\n",
       "2832    2800\n",
       "1736    5750\n",
       "2547    2500\n",
       "2549    5300\n",
       "3128    5750\n",
       "1340    5750\n",
       "Name: modal_rs_quintal, dtype: int64"
      ]
     },
     "execution_count": 65,
     "metadata": {},
     "output_type": "execute_result"
    }
   ],
   "source": [
    "y_test_price"
   ]
  },
  {
   "cell_type": "code",
   "execution_count": 10,
   "id": "bbf12172",
   "metadata": {},
   "outputs": [],
   "source": [
    "df2 = df1.loc[df1['district_name'].isin(['Ranga Reddy', 'Wayanad','Idukki', 'Kollam'])]"
   ]
  },
  {
   "cell_type": "code",
   "execution_count": null,
   "id": "2177ea07",
   "metadata": {},
   "outputs": [],
   "source": []
  },
  {
   "cell_type": "code",
   "execution_count": 11,
   "id": "67502d2f",
   "metadata": {},
   "outputs": [
    {
     "data": {
      "text/html": [
       "<div>\n",
       "<style scoped>\n",
       "    .dataframe tbody tr th:only-of-type {\n",
       "        vertical-align: middle;\n",
       "    }\n",
       "\n",
       "    .dataframe tbody tr th {\n",
       "        vertical-align: top;\n",
       "    }\n",
       "\n",
       "    .dataframe thead th {\n",
       "        text-align: right;\n",
       "    }\n",
       "</style>\n",
       "<table border=\"1\" class=\"dataframe\">\n",
       "  <thead>\n",
       "    <tr style=\"text-align: right;\">\n",
       "      <th></th>\n",
       "      <th>state_name</th>\n",
       "      <th>district_name</th>\n",
       "      <th>arrival_tonnes</th>\n",
       "      <th>min_price_rs_quintal</th>\n",
       "      <th>max_price_rs_quintal</th>\n",
       "      <th>modal_price_rs_quintal</th>\n",
       "      <th>reported_date</th>\n",
       "      <th>commodity_name</th>\n",
       "    </tr>\n",
       "  </thead>\n",
       "  <tbody>\n",
       "    <tr>\n",
       "      <th>3</th>\n",
       "      <td>Telangana</td>\n",
       "      <td>Ranga Reddy</td>\n",
       "      <td>0.4</td>\n",
       "      <td>2300</td>\n",
       "      <td>2300</td>\n",
       "      <td>2300</td>\n",
       "      <td>2022-07-13</td>\n",
       "      <td>Ambada Seed</td>\n",
       "    </tr>\n",
       "    <tr>\n",
       "      <th>7</th>\n",
       "      <td>Telangana</td>\n",
       "      <td>Ranga Reddy</td>\n",
       "      <td>0.4</td>\n",
       "      <td>2300</td>\n",
       "      <td>2300</td>\n",
       "      <td>2300</td>\n",
       "      <td>2022-07-13</td>\n",
       "      <td>Wool</td>\n",
       "    </tr>\n",
       "    <tr>\n",
       "      <th>11</th>\n",
       "      <td>Telangana</td>\n",
       "      <td>Ranga Reddy</td>\n",
       "      <td>0.4</td>\n",
       "      <td>2300</td>\n",
       "      <td>2300</td>\n",
       "      <td>2300</td>\n",
       "      <td>2022-07-13</td>\n",
       "      <td>Pointed gourd (Parval)</td>\n",
       "    </tr>\n",
       "    <tr>\n",
       "      <th>15</th>\n",
       "      <td>Telangana</td>\n",
       "      <td>Ranga Reddy</td>\n",
       "      <td>0.4</td>\n",
       "      <td>2300</td>\n",
       "      <td>2300</td>\n",
       "      <td>2300</td>\n",
       "      <td>2022-07-13</td>\n",
       "      <td>Gladiolus Bulb</td>\n",
       "    </tr>\n",
       "    <tr>\n",
       "      <th>19</th>\n",
       "      <td>Telangana</td>\n",
       "      <td>Ranga Reddy</td>\n",
       "      <td>0.4</td>\n",
       "      <td>2300</td>\n",
       "      <td>2300</td>\n",
       "      <td>2300</td>\n",
       "      <td>2022-07-13</td>\n",
       "      <td>Thogrikai</td>\n",
       "    </tr>\n",
       "    <tr>\n",
       "      <th>...</th>\n",
       "      <td>...</td>\n",
       "      <td>...</td>\n",
       "      <td>...</td>\n",
       "      <td>...</td>\n",
       "      <td>...</td>\n",
       "      <td>...</td>\n",
       "      <td>...</td>\n",
       "      <td>...</td>\n",
       "    </tr>\n",
       "    <tr>\n",
       "      <th>3433</th>\n",
       "      <td>Telangana</td>\n",
       "      <td>Ranga Reddy</td>\n",
       "      <td>0.3</td>\n",
       "      <td>280</td>\n",
       "      <td>2800</td>\n",
       "      <td>2800</td>\n",
       "      <td>2022-07-14</td>\n",
       "      <td>Red Gram</td>\n",
       "    </tr>\n",
       "    <tr>\n",
       "      <th>3435</th>\n",
       "      <td>Kerala</td>\n",
       "      <td>Wayanad</td>\n",
       "      <td>13.0</td>\n",
       "      <td>2400</td>\n",
       "      <td>2500</td>\n",
       "      <td>2500</td>\n",
       "      <td>2022-07-14</td>\n",
       "      <td>Bamboo</td>\n",
       "    </tr>\n",
       "    <tr>\n",
       "      <th>3436</th>\n",
       "      <td>Kerala</td>\n",
       "      <td>Idukki</td>\n",
       "      <td>4.9</td>\n",
       "      <td>1800</td>\n",
       "      <td>2300</td>\n",
       "      <td>2100</td>\n",
       "      <td>2022-07-14</td>\n",
       "      <td>Bamboo</td>\n",
       "    </tr>\n",
       "    <tr>\n",
       "      <th>3437</th>\n",
       "      <td>Kerala</td>\n",
       "      <td>Kollam</td>\n",
       "      <td>0.3</td>\n",
       "      <td>5000</td>\n",
       "      <td>5500</td>\n",
       "      <td>5300</td>\n",
       "      <td>2022-07-14</td>\n",
       "      <td>Bamboo</td>\n",
       "    </tr>\n",
       "    <tr>\n",
       "      <th>3439</th>\n",
       "      <td>Telangana</td>\n",
       "      <td>Ranga Reddy</td>\n",
       "      <td>0.3</td>\n",
       "      <td>280</td>\n",
       "      <td>2800</td>\n",
       "      <td>2800</td>\n",
       "      <td>2022-07-14</td>\n",
       "      <td>Bamboo</td>\n",
       "    </tr>\n",
       "  </tbody>\n",
       "</table>\n",
       "<p>1720 rows × 8 columns</p>\n",
       "</div>"
      ],
      "text/plain": [
       "     state_name district_name  arrival_tonnes  min_price_rs_quintal  \\\n",
       "3     Telangana   Ranga Reddy             0.4                  2300   \n",
       "7     Telangana   Ranga Reddy             0.4                  2300   \n",
       "11    Telangana   Ranga Reddy             0.4                  2300   \n",
       "15    Telangana   Ranga Reddy             0.4                  2300   \n",
       "19    Telangana   Ranga Reddy             0.4                  2300   \n",
       "...         ...           ...             ...                   ...   \n",
       "3433  Telangana   Ranga Reddy             0.3                   280   \n",
       "3435     Kerala       Wayanad            13.0                  2400   \n",
       "3436     Kerala        Idukki             4.9                  1800   \n",
       "3437     Kerala        Kollam             0.3                  5000   \n",
       "3439  Telangana   Ranga Reddy             0.3                   280   \n",
       "\n",
       "      max_price_rs_quintal  modal_price_rs_quintal reported_date  \\\n",
       "3                     2300                    2300    2022-07-13   \n",
       "7                     2300                    2300    2022-07-13   \n",
       "11                    2300                    2300    2022-07-13   \n",
       "15                    2300                    2300    2022-07-13   \n",
       "19                    2300                    2300    2022-07-13   \n",
       "...                    ...                     ...           ...   \n",
       "3433                  2800                    2800    2022-07-14   \n",
       "3435                  2500                    2500    2022-07-14   \n",
       "3436                  2300                    2100    2022-07-14   \n",
       "3437                  5500                    5300    2022-07-14   \n",
       "3439                  2800                    2800    2022-07-14   \n",
       "\n",
       "              commodity_name  \n",
       "3                Ambada Seed  \n",
       "7                       Wool  \n",
       "11    Pointed gourd (Parval)  \n",
       "15            Gladiolus Bulb  \n",
       "19                 Thogrikai  \n",
       "...                      ...  \n",
       "3433                Red Gram  \n",
       "3435                  Bamboo  \n",
       "3436                  Bamboo  \n",
       "3437                  Bamboo  \n",
       "3439                  Bamboo  \n",
       "\n",
       "[1720 rows x 8 columns]"
      ]
     },
     "execution_count": 11,
     "metadata": {},
     "output_type": "execute_result"
    }
   ],
   "source": [
    "df2"
   ]
  }
 ],
 "metadata": {
  "kernelspec": {
   "display_name": "Python 3 (ipykernel)",
   "language": "python",
   "name": "python3"
  },
  "language_info": {
   "codemirror_mode": {
    "name": "ipython",
    "version": 3
   },
   "file_extension": ".py",
   "mimetype": "text/x-python",
   "name": "python",
   "nbconvert_exporter": "python",
   "pygments_lexer": "ipython3",
   "version": "3.7.6"
  }
 },
 "nbformat": 4,
 "nbformat_minor": 5
}
